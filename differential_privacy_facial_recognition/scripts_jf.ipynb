{
 "cells": [
  {
   "cell_type": "code",
   "execution_count": null,
   "id": "2d7575d6-2304-47f0-905c-111c1a1c37dd",
   "metadata": {},
   "outputs": [],
   "source": [
    "#Frist, perform data preprocessing on all photos in VGGFACE2, that is, detect faces and align them to the same alignment format as FFHQdataset.\n",
    "\n",
    "python scripts/crop_align_vggface2_FFHQalign.py --input_dir images/VGGface2_None_norm_512_true_bygfpgan --output_dir_ffhqalign images/aligned --mode ffhq --crop_size 256"
   ]
  },
  {
   "cell_type": "code",
   "execution_count": null,
   "id": "c834a5fc-50d7-4472-85b1-3430abd84a56",
   "metadata": {},
   "outputs": [],
   "source": []
  }
 ],
 "metadata": {
  "kernelspec": {
   "display_name": "Python 3 (ipykernel)",
   "language": "python",
   "name": "python3"
  },
  "language_info": {
   "codemirror_mode": {
    "name": "ipython",
    "version": 3
   },
   "file_extension": ".py",
   "mimetype": "text/x-python",
   "name": "python",
   "nbconvert_exporter": "python",
   "pygments_lexer": "ipython3",
   "version": "3.9.16"
  }
 },
 "nbformat": 4,
 "nbformat_minor": 5
}
