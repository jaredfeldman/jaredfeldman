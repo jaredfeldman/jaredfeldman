{
  "cells": [
    {
      "cell_type": "code",
      "execution_count": null,
      "id": "a6c1e63f",
      "metadata": {
        "colab": {
          "base_uri": "https://localhost:8080/"
        },
        "id": "a6c1e63f",
        "outputId": "9068b6d4-ff02-4ce7-e991-7b23cc30165c"
      },
      "outputs": [
        {
          "output_type": "stream",
          "name": "stderr",
          "text": [
            "[nltk_data] Downloading package stopwords to /root/nltk_data...\n",
            "[nltk_data]   Package stopwords is already up-to-date!\n"
          ]
        }
      ],
      "source": [
        "#package imports\n",
        "\n",
        "import pandas as pd\n",
        "import numpy as np\n",
        "import matplotlib.pyplot as plt\n",
        "import seaborn as sns\n",
        "\n",
        "import tensorflow as tf\n",
        "from sklearn.feature_extraction.text import CountVectorizer\n",
        "from sklearn.linear_model import LogisticRegression\n",
        "from sklearn.ensemble import RandomForestClassifier\n",
        "from sklearn.metrics import classification_report\n",
        "from sklearn.metrics import confusion_matrix, ConfusionMatrixDisplay\n",
        "from sklearn import datasets\n",
        "from tensorflow import keras\n",
        "from keras import metrics\n",
        "tf.get_logger().setLevel('INFO')\n",
        "\n",
        "import re\n",
        "from sklearn.decomposition import PCA\n",
        "from collections import Counter\n",
        "import warnings\n",
        "warnings.filterwarnings(\"ignore\")\n",
        "\n",
        "import nltk\n",
        "from nltk.corpus import stopwords\n",
        "from nltk.tokenize import word_tokenize, sent_tokenize\n",
        "from nltk.stem import PorterStemmer, WordNetLemmatizer\n",
        "import string\n",
        "nltk.download('stopwords')\n",
        "import plotly.graph_objs as plotly  # for interactive plots"
      ]
    },
    {
      "cell_type": "code",
      "execution_count": null,
      "id": "351e9e65",
      "metadata": {
        "id": "351e9e65"
      },
      "outputs": [],
      "source": [
        "# Load data\n",
        "training_data = pd.read_json(\"train.json\")\n",
        "test_data = pd.read_json(\"test.json\")\n",
        "\n",
        "stop_words = set(stopwords.words('english'))"
      ]
    },
    {
      "cell_type": "code",
      "source": [
        "# Separate success/fail sets\n",
        "pizza = training_data[training_data['requester_received_pizza'] == True]\n",
        "no_pizza = training_data[training_data['requester_received_pizza'] == False]\n",
        "no_pizza_short = no_pizza[:len(pizza)]\n",
        "\n",
        "# Create new dataframe with equal outcomes\n",
        "new_train = pd.concat([pizza, no_pizza_short], axis = 0)\n",
        "new_train = new_train.sample(frac=1) # shuffle\n",
        "#new_train.reset_index()\n",
        "new_train.reset_index(drop=True, inplace=True)\n",
        "new_train = new_train.sort_index()\n",
        "new_train['requester_received_pizza'] = new_train['requester_received_pizza'].astype(int) # boolean to 0/1\n",
        "\n",
        "# Split data and set the appropriate columns\n",
        "test_features = test_data.columns\n",
        "Y = new_train['requester_received_pizza']\n",
        "X = new_train[training_data.columns[training_data.columns.isin(test_features)]]\n",
        "\n",
        "# Split for train and validation\n",
        "val_split = int(len(new_train) * 0.9)\n",
        "train_data, train_labels = X[:val_split], Y[:val_split]\n",
        "val_data, val_labels = X[val_split:], Y[val_split:]\n",
        "\n",
        "\n",
        "# Get only request text\n",
        "#train_requests = train_data['request_text_edit_aware']\n",
        "#val_requests = val_data['request_text_edit_aware']"
      ],
      "metadata": {
        "id": "YOw7-pRlK4Vq"
      },
      "id": "YOw7-pRlK4Vq",
      "execution_count": null,
      "outputs": []
    },
    {
      "cell_type": "code",
      "source": [
        "train_data\n"
      ],
      "metadata": {
        "colab": {
          "base_uri": "https://localhost:8080/",
          "height": 818
        },
        "id": "jIbH7YhFUunL",
        "outputId": "029ebf7c-3909-4b95-80bc-89480bd60e04"
      },
      "id": "jIbH7YhFUunL",
      "execution_count": null,
      "outputs": [
        {
          "output_type": "execute_result",
          "data": {
            "text/plain": [
              "     giver_username_if_known request_id  \\\n",
              "0                        N/A   t3_j0aex   \n",
              "1                        N/A  t3_15nuxv   \n",
              "2                        N/A   t3_qpu20   \n",
              "3                        N/A  t3_1d673k   \n",
              "4                        N/A  t3_1c60fa   \n",
              "...                      ...        ...   \n",
              "1784                     N/A  t3_152asi   \n",
              "1785                     N/A  t3_1iv1fe   \n",
              "1786                     N/A   t3_qc29b   \n",
              "1787           carseycritter  t3_15htf7   \n",
              "1788                     N/A   t3_i5qmk   \n",
              "\n",
              "                                request_text_edit_aware  \\\n",
              "0     Now, I'm not a poor guy. My family makes money...   \n",
              "1     i'm a 22 year old part time college student (a...   \n",
              "2     First world problems here, nothing major.\\n\\nS...   \n",
              "3     Hey, guys. I know it's going to sound like kin...   \n",
              "4      I'm kind of struggling today so If anyone cou...   \n",
              "...                                                 ...   \n",
              "1784  Hey all.  My wife is away on business tonight,...   \n",
              "1785  My dad passed away on July 11th and I've been ...   \n",
              "1786  Just got everything paid off for the month, wh...   \n",
              "1787  ...and all I have to eat here is banana bread,...   \n",
              "1788  My two roommates and I are out of food and mon...   \n",
              "\n",
              "                                          request_title  \\\n",
              "0                    [request] Healthy food? Fuck that.   \n",
              "1     [request] humble request from Sun City/Ruskin, FL   \n",
              "2              [Request]Work deadlines + weekend = Fail   \n",
              "3     [REQUEST] Art student would love some cheesy g...   \n",
              "4     [Request] Would totally appreciate a pie from ...   \n",
              "...                                                 ...   \n",
              "1784  [REQUEST] Pennsylvania dad embarassed to ask f...   \n",
              "1785  [Request] California: My dad passed away two w...   \n",
              "1786  [Request] Bills paid, rent due tomorrow, food ...   \n",
              "1787  [Request] Living paycheck-to-paycheck...unexpe...   \n",
              "1788                                [REQUEST] Need Help   \n",
              "\n",
              "      requester_account_age_in_days_at_request  \\\n",
              "0                                   608.777731   \n",
              "1                                   976.870220   \n",
              "2                                   418.885590   \n",
              "3                                   134.858727   \n",
              "4                                    41.898137   \n",
              "...                                        ...   \n",
              "1784                                302.898275   \n",
              "1785                                471.233553   \n",
              "1786                                124.821296   \n",
              "1787                                 42.300775   \n",
              "1788                                  3.073079   \n",
              "\n",
              "      requester_days_since_first_post_on_raop_at_request  \\\n",
              "0                                              0.000000    \n",
              "1                                              0.000000    \n",
              "2                                              0.000000    \n",
              "3                                              0.000000    \n",
              "4                                             16.883796    \n",
              "...                                                 ...    \n",
              "1784                                           0.000000    \n",
              "1785                                           0.000000    \n",
              "1786                                           0.000000    \n",
              "1787                                           0.000000    \n",
              "1788                                           0.000000    \n",
              "\n",
              "      requester_number_of_comments_at_request  \\\n",
              "0                                          11   \n",
              "1                                         331   \n",
              "2                                          97   \n",
              "3                                         287   \n",
              "4                                         195   \n",
              "...                                       ...   \n",
              "1784                                      502   \n",
              "1785                                      939   \n",
              "1786                                       75   \n",
              "1787                                       49   \n",
              "1788                                        5   \n",
              "\n",
              "      requester_number_of_comments_in_raop_at_request  \\\n",
              "0                                                   0   \n",
              "1                                                   0   \n",
              "2                                                   0   \n",
              "3                                                   0   \n",
              "4                                                   8   \n",
              "...                                               ...   \n",
              "1784                                                0   \n",
              "1785                                                0   \n",
              "1786                                                0   \n",
              "1787                                                0   \n",
              "1788                                                0   \n",
              "\n",
              "      requester_number_of_posts_at_request  \\\n",
              "0                                        4   \n",
              "1                                       11   \n",
              "2                                       11   \n",
              "3                                       11   \n",
              "4                                        8   \n",
              "...                                    ...   \n",
              "1784                                    45   \n",
              "1785                                    96   \n",
              "1786                                    10   \n",
              "1787                                     5   \n",
              "1788                                     0   \n",
              "\n",
              "      requester_number_of_posts_on_raop_at_request  \\\n",
              "0                                                0   \n",
              "1                                                0   \n",
              "2                                                0   \n",
              "3                                                0   \n",
              "4                                                1   \n",
              "...                                            ...   \n",
              "1784                                             0   \n",
              "1785                                             0   \n",
              "1786                                             0   \n",
              "1787                                             0   \n",
              "1788                                             0   \n",
              "\n",
              "      requester_number_of_subreddits_at_request  \\\n",
              "0                                             8   \n",
              "1                                            49   \n",
              "2                                            16   \n",
              "3                                            47   \n",
              "4                                            20   \n",
              "...                                         ...   \n",
              "1784                                         50   \n",
              "1785                                         75   \n",
              "1786                                         12   \n",
              "1787                                         19   \n",
              "1788                                          4   \n",
              "\n",
              "                        requester_subreddits_at_request  \\\n",
              "0     [AskReddit, IAmA, atheism, gaming, qwantzparty...   \n",
              "1     [AdviceAnimals, AskReddit, FlashFlashRevolutio...   \n",
              "2     [AskReddit, BusinessIntelligence, Charlotte, C...   \n",
              "3     [AdviceAnimals, Art, AskReddit, FiftyFifty, Ga...   \n",
              "4     [ABraThatFits, AskReddit, BDSMcommunity, Chris...   \n",
              "...                                                 ...   \n",
              "1784  [AskReddit, Battlefield, Borderlands2, Deathme...   \n",
              "1785  [4chan, AdviceAnimals, AnimalRights, AnimalsBe...   \n",
              "1786  [AdviceAnimals, AskReddit, Music, Quite, Rando...   \n",
              "1787  [AskReddit, CFB, CollegeBasketball, Journalism...   \n",
              "1788  [AskReddit, gameofthrones, leagueoflegends, tr...   \n",
              "\n",
              "      requester_upvotes_minus_downvotes_at_request  \\\n",
              "0                                               37   \n",
              "1                                              673   \n",
              "2                                              283   \n",
              "3                                             1625   \n",
              "4                                              581   \n",
              "...                                            ...   \n",
              "1784                                          2058   \n",
              "1785                                         14264   \n",
              "1786                                          1026   \n",
              "1787                                           458   \n",
              "1788                                             7   \n",
              "\n",
              "      requester_upvotes_plus_downvotes_at_request requester_username  \\\n",
              "0                                              81         Raiden1312   \n",
              "1                                            1319             tieks0   \n",
              "2                                             399       ClemsonLaxer   \n",
              "3                                            2397    AgentCodySpanks   \n",
              "4                                             969      phr3shcooki3s   \n",
              "...                                           ...                ...   \n",
              "1784                                         4356            halupki   \n",
              "1785                                        62302  SomeGuyWithABoner   \n",
              "1786                                         7062             biwley   \n",
              "1787                                          624      jeffreydonger   \n",
              "1788                                            7       HardKoreHero   \n",
              "\n",
              "      unix_timestamp_of_request  unix_timestamp_of_request_utc  \n",
              "0                    1311702230                     1311698630  \n",
              "1                    1356847418                     1356847418  \n",
              "2                    1331349152                     1331349152  \n",
              "3                    1367007187                     1367003587  \n",
              "4                    1365723446                     1365719846  \n",
              "...                         ...                            ...  \n",
              "1784                 1355856432                     1355856432  \n",
              "1785                 1374554490                     1374550890  \n",
              "1786                 1330558455                     1330558455  \n",
              "1787                 1356570822                     1356570822  \n",
              "1788                 1308705755                     1308702155  \n",
              "\n",
              "[1789 rows x 17 columns]"
            ],
            "text/html": [
              "\n",
              "\n",
              "  <div id=\"df-03b5e479-27e7-44b2-9178-13b30be373a8\">\n",
              "    <div class=\"colab-df-container\">\n",
              "      <div>\n",
              "<style scoped>\n",
              "    .dataframe tbody tr th:only-of-type {\n",
              "        vertical-align: middle;\n",
              "    }\n",
              "\n",
              "    .dataframe tbody tr th {\n",
              "        vertical-align: top;\n",
              "    }\n",
              "\n",
              "    .dataframe thead th {\n",
              "        text-align: right;\n",
              "    }\n",
              "</style>\n",
              "<table border=\"1\" class=\"dataframe\">\n",
              "  <thead>\n",
              "    <tr style=\"text-align: right;\">\n",
              "      <th></th>\n",
              "      <th>giver_username_if_known</th>\n",
              "      <th>request_id</th>\n",
              "      <th>request_text_edit_aware</th>\n",
              "      <th>request_title</th>\n",
              "      <th>requester_account_age_in_days_at_request</th>\n",
              "      <th>requester_days_since_first_post_on_raop_at_request</th>\n",
              "      <th>requester_number_of_comments_at_request</th>\n",
              "      <th>requester_number_of_comments_in_raop_at_request</th>\n",
              "      <th>requester_number_of_posts_at_request</th>\n",
              "      <th>requester_number_of_posts_on_raop_at_request</th>\n",
              "      <th>requester_number_of_subreddits_at_request</th>\n",
              "      <th>requester_subreddits_at_request</th>\n",
              "      <th>requester_upvotes_minus_downvotes_at_request</th>\n",
              "      <th>requester_upvotes_plus_downvotes_at_request</th>\n",
              "      <th>requester_username</th>\n",
              "      <th>unix_timestamp_of_request</th>\n",
              "      <th>unix_timestamp_of_request_utc</th>\n",
              "    </tr>\n",
              "  </thead>\n",
              "  <tbody>\n",
              "    <tr>\n",
              "      <th>0</th>\n",
              "      <td>N/A</td>\n",
              "      <td>t3_j0aex</td>\n",
              "      <td>Now, I'm not a poor guy. My family makes money...</td>\n",
              "      <td>[request] Healthy food? Fuck that.</td>\n",
              "      <td>608.777731</td>\n",
              "      <td>0.000000</td>\n",
              "      <td>11</td>\n",
              "      <td>0</td>\n",
              "      <td>4</td>\n",
              "      <td>0</td>\n",
              "      <td>8</td>\n",
              "      <td>[AskReddit, IAmA, atheism, gaming, qwantzparty...</td>\n",
              "      <td>37</td>\n",
              "      <td>81</td>\n",
              "      <td>Raiden1312</td>\n",
              "      <td>1311702230</td>\n",
              "      <td>1311698630</td>\n",
              "    </tr>\n",
              "    <tr>\n",
              "      <th>1</th>\n",
              "      <td>N/A</td>\n",
              "      <td>t3_15nuxv</td>\n",
              "      <td>i'm a 22 year old part time college student (a...</td>\n",
              "      <td>[request] humble request from Sun City/Ruskin, FL</td>\n",
              "      <td>976.870220</td>\n",
              "      <td>0.000000</td>\n",
              "      <td>331</td>\n",
              "      <td>0</td>\n",
              "      <td>11</td>\n",
              "      <td>0</td>\n",
              "      <td>49</td>\n",
              "      <td>[AdviceAnimals, AskReddit, FlashFlashRevolutio...</td>\n",
              "      <td>673</td>\n",
              "      <td>1319</td>\n",
              "      <td>tieks0</td>\n",
              "      <td>1356847418</td>\n",
              "      <td>1356847418</td>\n",
              "    </tr>\n",
              "    <tr>\n",
              "      <th>2</th>\n",
              "      <td>N/A</td>\n",
              "      <td>t3_qpu20</td>\n",
              "      <td>First world problems here, nothing major.\\n\\nS...</td>\n",
              "      <td>[Request]Work deadlines + weekend = Fail</td>\n",
              "      <td>418.885590</td>\n",
              "      <td>0.000000</td>\n",
              "      <td>97</td>\n",
              "      <td>0</td>\n",
              "      <td>11</td>\n",
              "      <td>0</td>\n",
              "      <td>16</td>\n",
              "      <td>[AskReddit, BusinessIntelligence, Charlotte, C...</td>\n",
              "      <td>283</td>\n",
              "      <td>399</td>\n",
              "      <td>ClemsonLaxer</td>\n",
              "      <td>1331349152</td>\n",
              "      <td>1331349152</td>\n",
              "    </tr>\n",
              "    <tr>\n",
              "      <th>3</th>\n",
              "      <td>N/A</td>\n",
              "      <td>t3_1d673k</td>\n",
              "      <td>Hey, guys. I know it's going to sound like kin...</td>\n",
              "      <td>[REQUEST] Art student would love some cheesy g...</td>\n",
              "      <td>134.858727</td>\n",
              "      <td>0.000000</td>\n",
              "      <td>287</td>\n",
              "      <td>0</td>\n",
              "      <td>11</td>\n",
              "      <td>0</td>\n",
              "      <td>47</td>\n",
              "      <td>[AdviceAnimals, Art, AskReddit, FiftyFifty, Ga...</td>\n",
              "      <td>1625</td>\n",
              "      <td>2397</td>\n",
              "      <td>AgentCodySpanks</td>\n",
              "      <td>1367007187</td>\n",
              "      <td>1367003587</td>\n",
              "    </tr>\n",
              "    <tr>\n",
              "      <th>4</th>\n",
              "      <td>N/A</td>\n",
              "      <td>t3_1c60fa</td>\n",
              "      <td>I'm kind of struggling today so If anyone cou...</td>\n",
              "      <td>[Request] Would totally appreciate a pie from ...</td>\n",
              "      <td>41.898137</td>\n",
              "      <td>16.883796</td>\n",
              "      <td>195</td>\n",
              "      <td>8</td>\n",
              "      <td>8</td>\n",
              "      <td>1</td>\n",
              "      <td>20</td>\n",
              "      <td>[ABraThatFits, AskReddit, BDSMcommunity, Chris...</td>\n",
              "      <td>581</td>\n",
              "      <td>969</td>\n",
              "      <td>phr3shcooki3s</td>\n",
              "      <td>1365723446</td>\n",
              "      <td>1365719846</td>\n",
              "    </tr>\n",
              "    <tr>\n",
              "      <th>...</th>\n",
              "      <td>...</td>\n",
              "      <td>...</td>\n",
              "      <td>...</td>\n",
              "      <td>...</td>\n",
              "      <td>...</td>\n",
              "      <td>...</td>\n",
              "      <td>...</td>\n",
              "      <td>...</td>\n",
              "      <td>...</td>\n",
              "      <td>...</td>\n",
              "      <td>...</td>\n",
              "      <td>...</td>\n",
              "      <td>...</td>\n",
              "      <td>...</td>\n",
              "      <td>...</td>\n",
              "      <td>...</td>\n",
              "      <td>...</td>\n",
              "    </tr>\n",
              "    <tr>\n",
              "      <th>1784</th>\n",
              "      <td>N/A</td>\n",
              "      <td>t3_152asi</td>\n",
              "      <td>Hey all.  My wife is away on business tonight,...</td>\n",
              "      <td>[REQUEST] Pennsylvania dad embarassed to ask f...</td>\n",
              "      <td>302.898275</td>\n",
              "      <td>0.000000</td>\n",
              "      <td>502</td>\n",
              "      <td>0</td>\n",
              "      <td>45</td>\n",
              "      <td>0</td>\n",
              "      <td>50</td>\n",
              "      <td>[AskReddit, Battlefield, Borderlands2, Deathme...</td>\n",
              "      <td>2058</td>\n",
              "      <td>4356</td>\n",
              "      <td>halupki</td>\n",
              "      <td>1355856432</td>\n",
              "      <td>1355856432</td>\n",
              "    </tr>\n",
              "    <tr>\n",
              "      <th>1785</th>\n",
              "      <td>N/A</td>\n",
              "      <td>t3_1iv1fe</td>\n",
              "      <td>My dad passed away on July 11th and I've been ...</td>\n",
              "      <td>[Request] California: My dad passed away two w...</td>\n",
              "      <td>471.233553</td>\n",
              "      <td>0.000000</td>\n",
              "      <td>939</td>\n",
              "      <td>0</td>\n",
              "      <td>96</td>\n",
              "      <td>0</td>\n",
              "      <td>75</td>\n",
              "      <td>[4chan, AdviceAnimals, AnimalRights, AnimalsBe...</td>\n",
              "      <td>14264</td>\n",
              "      <td>62302</td>\n",
              "      <td>SomeGuyWithABoner</td>\n",
              "      <td>1374554490</td>\n",
              "      <td>1374550890</td>\n",
              "    </tr>\n",
              "    <tr>\n",
              "      <th>1786</th>\n",
              "      <td>N/A</td>\n",
              "      <td>t3_qc29b</td>\n",
              "      <td>Just got everything paid off for the month, wh...</td>\n",
              "      <td>[Request] Bills paid, rent due tomorrow, food ...</td>\n",
              "      <td>124.821296</td>\n",
              "      <td>0.000000</td>\n",
              "      <td>75</td>\n",
              "      <td>0</td>\n",
              "      <td>10</td>\n",
              "      <td>0</td>\n",
              "      <td>12</td>\n",
              "      <td>[AdviceAnimals, AskReddit, Music, Quite, Rando...</td>\n",
              "      <td>1026</td>\n",
              "      <td>7062</td>\n",
              "      <td>biwley</td>\n",
              "      <td>1330558455</td>\n",
              "      <td>1330558455</td>\n",
              "    </tr>\n",
              "    <tr>\n",
              "      <th>1787</th>\n",
              "      <td>carseycritter</td>\n",
              "      <td>t3_15htf7</td>\n",
              "      <td>...and all I have to eat here is banana bread,...</td>\n",
              "      <td>[Request] Living paycheck-to-paycheck...unexpe...</td>\n",
              "      <td>42.300775</td>\n",
              "      <td>0.000000</td>\n",
              "      <td>49</td>\n",
              "      <td>0</td>\n",
              "      <td>5</td>\n",
              "      <td>0</td>\n",
              "      <td>19</td>\n",
              "      <td>[AskReddit, CFB, CollegeBasketball, Journalism...</td>\n",
              "      <td>458</td>\n",
              "      <td>624</td>\n",
              "      <td>jeffreydonger</td>\n",
              "      <td>1356570822</td>\n",
              "      <td>1356570822</td>\n",
              "    </tr>\n",
              "    <tr>\n",
              "      <th>1788</th>\n",
              "      <td>N/A</td>\n",
              "      <td>t3_i5qmk</td>\n",
              "      <td>My two roommates and I are out of food and mon...</td>\n",
              "      <td>[REQUEST] Need Help</td>\n",
              "      <td>3.073079</td>\n",
              "      <td>0.000000</td>\n",
              "      <td>5</td>\n",
              "      <td>0</td>\n",
              "      <td>0</td>\n",
              "      <td>0</td>\n",
              "      <td>4</td>\n",
              "      <td>[AskReddit, gameofthrones, leagueoflegends, tr...</td>\n",
              "      <td>7</td>\n",
              "      <td>7</td>\n",
              "      <td>HardKoreHero</td>\n",
              "      <td>1308705755</td>\n",
              "      <td>1308702155</td>\n",
              "    </tr>\n",
              "  </tbody>\n",
              "</table>\n",
              "<p>1789 rows × 17 columns</p>\n",
              "</div>\n",
              "      <button class=\"colab-df-convert\" onclick=\"convertToInteractive('df-03b5e479-27e7-44b2-9178-13b30be373a8')\"\n",
              "              title=\"Convert this dataframe to an interactive table.\"\n",
              "              style=\"display:none;\">\n",
              "\n",
              "  <svg xmlns=\"http://www.w3.org/2000/svg\" height=\"24px\"viewBox=\"0 0 24 24\"\n",
              "       width=\"24px\">\n",
              "    <path d=\"M0 0h24v24H0V0z\" fill=\"none\"/>\n",
              "    <path d=\"M18.56 5.44l.94 2.06.94-2.06 2.06-.94-2.06-.94-.94-2.06-.94 2.06-2.06.94zm-11 1L8.5 8.5l.94-2.06 2.06-.94-2.06-.94L8.5 2.5l-.94 2.06-2.06.94zm10 10l.94 2.06.94-2.06 2.06-.94-2.06-.94-.94-2.06-.94 2.06-2.06.94z\"/><path d=\"M17.41 7.96l-1.37-1.37c-.4-.4-.92-.59-1.43-.59-.52 0-1.04.2-1.43.59L10.3 9.45l-7.72 7.72c-.78.78-.78 2.05 0 2.83L4 21.41c.39.39.9.59 1.41.59.51 0 1.02-.2 1.41-.59l7.78-7.78 2.81-2.81c.8-.78.8-2.07 0-2.86zM5.41 20L4 18.59l7.72-7.72 1.47 1.35L5.41 20z\"/>\n",
              "  </svg>\n",
              "      </button>\n",
              "\n",
              "\n",
              "\n",
              "    <div id=\"df-11ed072c-baee-4a08-b12a-e4f2ef7eb29c\">\n",
              "      <button class=\"colab-df-quickchart\" onclick=\"quickchart('df-11ed072c-baee-4a08-b12a-e4f2ef7eb29c')\"\n",
              "              title=\"Suggest charts.\"\n",
              "              style=\"display:none;\">\n",
              "\n",
              "<svg xmlns=\"http://www.w3.org/2000/svg\" height=\"24px\"viewBox=\"0 0 24 24\"\n",
              "     width=\"24px\">\n",
              "    <g>\n",
              "        <path d=\"M19 3H5c-1.1 0-2 .9-2 2v14c0 1.1.9 2 2 2h14c1.1 0 2-.9 2-2V5c0-1.1-.9-2-2-2zM9 17H7v-7h2v7zm4 0h-2V7h2v10zm4 0h-2v-4h2v4z\"/>\n",
              "    </g>\n",
              "</svg>\n",
              "      </button>\n",
              "    </div>\n",
              "\n",
              "<style>\n",
              "  .colab-df-quickchart {\n",
              "    background-color: #E8F0FE;\n",
              "    border: none;\n",
              "    border-radius: 50%;\n",
              "    cursor: pointer;\n",
              "    display: none;\n",
              "    fill: #1967D2;\n",
              "    height: 32px;\n",
              "    padding: 0 0 0 0;\n",
              "    width: 32px;\n",
              "  }\n",
              "\n",
              "  .colab-df-quickchart:hover {\n",
              "    background-color: #E2EBFA;\n",
              "    box-shadow: 0px 1px 2px rgba(60, 64, 67, 0.3), 0px 1px 3px 1px rgba(60, 64, 67, 0.15);\n",
              "    fill: #174EA6;\n",
              "  }\n",
              "\n",
              "  [theme=dark] .colab-df-quickchart {\n",
              "    background-color: #3B4455;\n",
              "    fill: #D2E3FC;\n",
              "  }\n",
              "\n",
              "  [theme=dark] .colab-df-quickchart:hover {\n",
              "    background-color: #434B5C;\n",
              "    box-shadow: 0px 1px 3px 1px rgba(0, 0, 0, 0.15);\n",
              "    filter: drop-shadow(0px 1px 2px rgba(0, 0, 0, 0.3));\n",
              "    fill: #FFFFFF;\n",
              "  }\n",
              "</style>\n",
              "\n",
              "    <script>\n",
              "      async function quickchart(key) {\n",
              "        const containerElement = document.querySelector('#' + key);\n",
              "        const charts = await google.colab.kernel.invokeFunction(\n",
              "            'suggestCharts', [key], {});\n",
              "      }\n",
              "    </script>\n",
              "\n",
              "      <script>\n",
              "\n",
              "function displayQuickchartButton(domScope) {\n",
              "  let quickchartButtonEl =\n",
              "    domScope.querySelector('#df-11ed072c-baee-4a08-b12a-e4f2ef7eb29c button.colab-df-quickchart');\n",
              "  quickchartButtonEl.style.display =\n",
              "    google.colab.kernel.accessAllowed ? 'block' : 'none';\n",
              "}\n",
              "\n",
              "        displayQuickchartButton(document);\n",
              "      </script>\n",
              "      <style>\n",
              "    .colab-df-container {\n",
              "      display:flex;\n",
              "      flex-wrap:wrap;\n",
              "      gap: 12px;\n",
              "    }\n",
              "\n",
              "    .colab-df-convert {\n",
              "      background-color: #E8F0FE;\n",
              "      border: none;\n",
              "      border-radius: 50%;\n",
              "      cursor: pointer;\n",
              "      display: none;\n",
              "      fill: #1967D2;\n",
              "      height: 32px;\n",
              "      padding: 0 0 0 0;\n",
              "      width: 32px;\n",
              "    }\n",
              "\n",
              "    .colab-df-convert:hover {\n",
              "      background-color: #E2EBFA;\n",
              "      box-shadow: 0px 1px 2px rgba(60, 64, 67, 0.3), 0px 1px 3px 1px rgba(60, 64, 67, 0.15);\n",
              "      fill: #174EA6;\n",
              "    }\n",
              "\n",
              "    [theme=dark] .colab-df-convert {\n",
              "      background-color: #3B4455;\n",
              "      fill: #D2E3FC;\n",
              "    }\n",
              "\n",
              "    [theme=dark] .colab-df-convert:hover {\n",
              "      background-color: #434B5C;\n",
              "      box-shadow: 0px 1px 3px 1px rgba(0, 0, 0, 0.15);\n",
              "      filter: drop-shadow(0px 1px 2px rgba(0, 0, 0, 0.3));\n",
              "      fill: #FFFFFF;\n",
              "    }\n",
              "  </style>\n",
              "\n",
              "      <script>\n",
              "        const buttonEl =\n",
              "          document.querySelector('#df-03b5e479-27e7-44b2-9178-13b30be373a8 button.colab-df-convert');\n",
              "        buttonEl.style.display =\n",
              "          google.colab.kernel.accessAllowed ? 'block' : 'none';\n",
              "\n",
              "        async function convertToInteractive(key) {\n",
              "          const element = document.querySelector('#df-03b5e479-27e7-44b2-9178-13b30be373a8');\n",
              "          const dataTable =\n",
              "            await google.colab.kernel.invokeFunction('convertToInteractive',\n",
              "                                                     [key], {});\n",
              "          if (!dataTable) return;\n",
              "\n",
              "          const docLinkHtml = 'Like what you see? Visit the ' +\n",
              "            '<a target=\"_blank\" href=https://colab.research.google.com/notebooks/data_table.ipynb>data table notebook</a>'\n",
              "            + ' to learn more about interactive tables.';\n",
              "          element.innerHTML = '';\n",
              "          dataTable['output_type'] = 'display_data';\n",
              "          await google.colab.output.renderOutput(dataTable, element);\n",
              "          const docLink = document.createElement('div');\n",
              "          docLink.innerHTML = docLinkHtml;\n",
              "          element.appendChild(docLink);\n",
              "        }\n",
              "      </script>\n",
              "    </div>\n",
              "  </div>\n"
            ]
          },
          "metadata": {},
          "execution_count": 4
        }
      ]
    },
    {
      "cell_type": "code",
      "source": [
        "val_data.reset_index(drop=True, inplace=True)\n",
        "val_labels.reset_index(drop=True, inplace=True)"
      ],
      "metadata": {
        "id": "VRAEVxE1btIh"
      },
      "id": "VRAEVxE1btIh",
      "execution_count": null,
      "outputs": []
    },
    {
      "cell_type": "code",
      "source": [
        "val_labels"
      ],
      "metadata": {
        "colab": {
          "base_uri": "https://localhost:8080/"
        },
        "id": "reBktTLwb6UC",
        "outputId": "6d877481-76b1-4f23-b151-0ecf89598d3d"
      },
      "id": "reBktTLwb6UC",
      "execution_count": null,
      "outputs": [
        {
          "output_type": "execute_result",
          "data": {
            "text/plain": [
              "0      1\n",
              "1      1\n",
              "2      1\n",
              "3      0\n",
              "4      1\n",
              "      ..\n",
              "194    0\n",
              "195    1\n",
              "196    1\n",
              "197    0\n",
              "198    0\n",
              "Name: requester_received_pizza, Length: 199, dtype: int64"
            ]
          },
          "metadata": {},
          "execution_count": 6
        }
      ]
    },
    {
      "cell_type": "code",
      "execution_count": null,
      "id": "93470455",
      "metadata": {
        "id": "93470455"
      },
      "outputs": [],
      "source": [
        "stop_words = list(stop_words)"
      ]
    },
    {
      "cell_type": "code",
      "execution_count": null,
      "id": "5ea74161",
      "metadata": {
        "id": "5ea74161"
      },
      "outputs": [],
      "source": [
        "for word in ['i\\'ve', 'i\\'m', 'i\\'ll', \"i'm\", \"i've\", \"i'll\", 'im',\n",
        "            'pizza', 'request']:\n",
        "    stop_words.append(word)"
      ]
    },
    {
      "cell_type": "code",
      "execution_count": null,
      "id": "da40cf1f",
      "metadata": {
        "colab": {
          "base_uri": "https://localhost:8080/"
        },
        "id": "da40cf1f",
        "outputId": "1ef712b0-5005-452d-e25f-b6ee41722233"
      },
      "outputs": [
        {
          "output_type": "execute_result",
          "data": {
            "text/plain": [
              "Index(['giver_username_if_known', 'request_id', 'request_text_edit_aware',\n",
              "       'request_title', 'requester_account_age_in_days_at_request',\n",
              "       'requester_days_since_first_post_on_raop_at_request',\n",
              "       'requester_number_of_comments_at_request',\n",
              "       'requester_number_of_comments_in_raop_at_request',\n",
              "       'requester_number_of_posts_at_request',\n",
              "       'requester_number_of_posts_on_raop_at_request',\n",
              "       'requester_number_of_subreddits_at_request',\n",
              "       'requester_subreddits_at_request',\n",
              "       'requester_upvotes_minus_downvotes_at_request',\n",
              "       'requester_upvotes_plus_downvotes_at_request', 'requester_username',\n",
              "       'unix_timestamp_of_request', 'unix_timestamp_of_request_utc'],\n",
              "      dtype='object')"
            ]
          },
          "metadata": {},
          "execution_count": 9
        }
      ],
      "source": [
        "train_data.columns"
      ]
    },
    {
      "cell_type": "code",
      "execution_count": null,
      "id": "f8bc1917",
      "metadata": {
        "colab": {
          "base_uri": "https://localhost:8080/"
        },
        "id": "f8bc1917",
        "outputId": "53bb6527-629a-40a8-b390-b4a260c3858d"
      },
      "outputs": [
        {
          "output_type": "execute_result",
          "data": {
            "text/plain": [
              "Index(['giver_username_if_known', 'request_id', 'request_text_edit_aware',\n",
              "       'request_title', 'requester_account_age_in_days_at_request',\n",
              "       'requester_days_since_first_post_on_raop_at_request',\n",
              "       'requester_number_of_comments_at_request',\n",
              "       'requester_number_of_comments_in_raop_at_request',\n",
              "       'requester_number_of_posts_at_request',\n",
              "       'requester_number_of_posts_on_raop_at_request',\n",
              "       'requester_number_of_subreddits_at_request',\n",
              "       'requester_subreddits_at_request',\n",
              "       'requester_upvotes_minus_downvotes_at_request',\n",
              "       'requester_upvotes_plus_downvotes_at_request', 'requester_username',\n",
              "       'unix_timestamp_of_request', 'unix_timestamp_of_request_utc'],\n",
              "      dtype='object')"
            ]
          },
          "metadata": {},
          "execution_count": 10
        }
      ],
      "source": [
        "# Look at fields used in the test data\n",
        "test_data.columns"
      ]
    },
    {
      "cell_type": "code",
      "execution_count": null,
      "id": "ab396fa8",
      "metadata": {
        "id": "ab396fa8"
      },
      "outputs": [],
      "source": [
        "# from Cornellia demo notebook\n",
        "def preprocessor(text):\n",
        "    text = re.sub('<[^>]*>', '', text)\n",
        "    emoticons = re.findall('(?::|;|=)(?:-)?(?:\\)|\\(|D|P)',\n",
        "                           text)\n",
        "    text = (re.sub('[\\W]+', ' ', text.lower()) +\n",
        "            ' '.join(emoticons).replace('-', ''))\n",
        "    return text"
      ]
    },
    {
      "cell_type": "code",
      "execution_count": null,
      "id": "6790fa43",
      "metadata": {
        "id": "6790fa43"
      },
      "outputs": [],
      "source": [
        "# modified from hw 9\n",
        "def decode(token_ids):\n",
        "    \"\"\"Return a string with the decoded text given a list of token ids.\"\"\"\n",
        "    # Try looking up each id in the index, but return '#' (for OOV) if not found.\n",
        "\n",
        "    key_list = list(token_index.keys())\n",
        "    value_list = list(token_index.values())\n",
        "\n",
        "    tokens = []\n",
        "\n",
        "    for token_id in token_ids:\n",
        "        if token_id == 0:\n",
        "            tokens.append('#')\n",
        "        else:\n",
        "            position = value_list.index(token_id)\n",
        "            tokens.append(key_list[position])\n",
        "\n",
        "    # Connect the string tokens with a space.\n",
        "    return ' '.join(tokens)\n"
      ]
    },
    {
      "cell_type": "code",
      "execution_count": null,
      "id": "0146657c",
      "metadata": {
        "id": "0146657c"
      },
      "outputs": [],
      "source": [
        "def create_token_index(requests):\n",
        "    '''Creates a dictionary for token : token_id'''\n",
        "    token_index = {'<START>':1,\n",
        "              '#': 2,\n",
        "              '<UNUSED>':3}\n",
        "    count = 4\n",
        "\n",
        "    for i in range(len(requests)):\n",
        "        for j in requests[i].split():\n",
        "            if j not in stop_words:\n",
        "                if len(j) > 2:\n",
        "                    if j not in token_index.keys():\n",
        "                        token_index[j] = count\n",
        "                        count += 1\n",
        "\n",
        "    return token_index"
      ]
    },
    {
      "cell_type": "code",
      "execution_count": null,
      "id": "551d2b95",
      "metadata": {
        "id": "551d2b95"
      },
      "outputs": [],
      "source": [
        "def tokenize(requests):\n",
        "    '''input list of text to output tokenized list'''\n",
        "    token_requests = []\n",
        "\n",
        "    for i in range(len(requests)):\n",
        "        tokens = []\n",
        "        for j in requests[i].split():\n",
        "            if j in token_index:\n",
        "                tokens.append(token_index[j])\n",
        "            else:\n",
        "                tokens.append(2)\n",
        "        token_requests.append(tokens)\n",
        "\n",
        "    return token_requests\n"
      ]
    },
    {
      "cell_type": "code",
      "execution_count": null,
      "id": "9884f3c5",
      "metadata": {
        "id": "9884f3c5"
      },
      "outputs": [],
      "source": [
        "# From HW 9\n",
        "def pad_data(sequences, max_length):\n",
        "  # Keras has a convenient utility for padding a sequence.\n",
        "  # Also make sure we get a numpy array rather than an array of lists.\n",
        "  return np.array(list(\n",
        "      tf.keras.preprocessing.sequence.pad_sequences(\n",
        "          sequences, maxlen=max_length, padding='post', value=0)))"
      ]
    },
    {
      "cell_type": "code",
      "execution_count": null,
      "id": "10ce4bd2",
      "metadata": {
        "id": "10ce4bd2"
      },
      "outputs": [],
      "source": [
        "# From HW 9\n",
        "def limit_vocab(sequences, max_token_id, oov_id=2):\n",
        "  \"\"\"Replace token ids greater than or equal to max_token_id with the oov_id.\"\"\"\n",
        "  reduced_sequences = np.copy(sequences)\n",
        "  reduced_sequences[reduced_sequences >= max_token_id] = oov_id\n",
        "  return reduced_sequences"
      ]
    },
    {
      "cell_type": "code",
      "execution_count": null,
      "id": "dd7876ed",
      "metadata": {
        "id": "dd7876ed"
      },
      "outputs": [],
      "source": [
        "train_data['request_text_edit_aware'] = train_data['request_text_edit_aware'].apply(preprocessor)"
      ]
    },
    {
      "cell_type": "code",
      "source": [
        "train_data['request_text_edit_aware']"
      ],
      "metadata": {
        "colab": {
          "base_uri": "https://localhost:8080/"
        },
        "id": "_iTDEieXLN9O",
        "outputId": "7cc75ce3-591e-426b-aaad-c0347957053c"
      },
      "id": "_iTDEieXLN9O",
      "execution_count": null,
      "outputs": [
        {
          "output_type": "execute_result",
          "data": {
            "text/plain": [
              "0       now i m not a poor guy my family makes money w...\n",
              "1       i m a 22 year old part time college student an...\n",
              "2       first world problems here nothing major short ...\n",
              "3       hey guys i know it s going to sound like kind ...\n",
              "4        i m kind of struggling today so if anyone cou...\n",
              "                              ...                        \n",
              "1784    hey all my wife is away on business tonight so...\n",
              "1785    my dad passed away on july 11th and i ve been ...\n",
              "1786    just got everything paid off for the month whi...\n",
              "1787     and all i have to eat here is banana bread wh...\n",
              "1788    my two roommates and i are out of food and mon...\n",
              "Name: request_text_edit_aware, Length: 1789, dtype: object"
            ]
          },
          "metadata": {},
          "execution_count": 18
        }
      ]
    },
    {
      "cell_type": "code",
      "execution_count": null,
      "id": "02a179c8",
      "metadata": {
        "id": "02a179c8"
      },
      "outputs": [],
      "source": [
        "Y = train_labels"
      ]
    },
    {
      "cell_type": "code",
      "source": [
        "Y"
      ],
      "metadata": {
        "colab": {
          "base_uri": "https://localhost:8080/"
        },
        "id": "shBZRO1qZZgL",
        "outputId": "abe503c4-951d-40e2-b059-2ee9fe86ed60"
      },
      "id": "shBZRO1qZZgL",
      "execution_count": null,
      "outputs": [
        {
          "output_type": "execute_result",
          "data": {
            "text/plain": [
              "0       0\n",
              "1       0\n",
              "2       1\n",
              "3       0\n",
              "4       1\n",
              "       ..\n",
              "1784    1\n",
              "1785    0\n",
              "1786    0\n",
              "1787    1\n",
              "1788    0\n",
              "Name: requester_received_pizza, Length: 1789, dtype: int64"
            ]
          },
          "metadata": {},
          "execution_count": 20
        }
      ]
    },
    {
      "cell_type": "code",
      "execution_count": null,
      "id": "9b544599",
      "metadata": {
        "id": "9b544599"
      },
      "outputs": [],
      "source": [
        "requests = train_data['request_text_edit_aware']"
      ]
    },
    {
      "cell_type": "code",
      "source": [
        "requests.loc[1335]"
      ],
      "metadata": {
        "colab": {
          "base_uri": "https://localhost:8080/",
          "height": 35
        },
        "id": "zgYMS1oDTWke",
        "outputId": "c40addaa-8386-48b1-949f-7652a9c0c1d8"
      },
      "id": "zgYMS1oDTWke",
      "execution_count": null,
      "outputs": [
        {
          "output_type": "execute_result",
          "data": {
            "text/plain": [
              "''"
            ],
            "application/vnd.google.colaboratory.intrinsic+json": {
              "type": "string"
            }
          },
          "metadata": {},
          "execution_count": 22
        }
      ]
    },
    {
      "cell_type": "code",
      "execution_count": null,
      "id": "a2e923b0",
      "metadata": {
        "id": "a2e923b0"
      },
      "outputs": [],
      "source": [
        "token_index = create_token_index(requests)"
      ]
    },
    {
      "cell_type": "code",
      "execution_count": null,
      "id": "4f33ece8",
      "metadata": {
        "id": "4f33ece8",
        "colab": {
          "base_uri": "https://localhost:8080/"
        },
        "outputId": "d88be781-77a0-4857-a62d-6fdf94c95a63"
      },
      "outputs": [
        {
          "output_type": "execute_result",
          "data": {
            "text/plain": [
              "7999"
            ]
          },
          "metadata": {},
          "execution_count": 24
        }
      ],
      "source": [
        "len(token_index)"
      ]
    },
    {
      "cell_type": "code",
      "execution_count": null,
      "id": "4e89a3ea",
      "metadata": {
        "id": "4e89a3ea"
      },
      "outputs": [],
      "source": [
        "token_requests = tokenize(requests)"
      ]
    },
    {
      "cell_type": "code",
      "execution_count": null,
      "id": "03f5107c",
      "metadata": {
        "id": "03f5107c",
        "colab": {
          "base_uri": "https://localhost:8080/"
        },
        "outputId": "59319b63-8ab0-401d-bb43-fcebfcfc74c4"
      },
      "outputs": [
        {
          "output_type": "execute_result",
          "data": {
            "text/plain": [
              "75"
            ]
          },
          "metadata": {},
          "execution_count": 26
        }
      ],
      "source": [
        "len(token_requests[1])"
      ]
    },
    {
      "cell_type": "code",
      "execution_count": null,
      "id": "bbbe3710",
      "metadata": {
        "id": "bbbe3710",
        "colab": {
          "base_uri": "https://localhost:8080/"
        },
        "outputId": "c4a1df9e-ca4d-463c-cc82-327af2fcdb05"
      },
      "outputs": [
        {
          "output_type": "execute_result",
          "data": {
            "text/plain": [
              "True"
            ]
          },
          "metadata": {},
          "execution_count": 27
        }
      ],
      "source": [
        "len(token_requests) == len(requests)"
      ]
    },
    {
      "cell_type": "code",
      "execution_count": null,
      "id": "26660e94",
      "metadata": {
        "id": "26660e94",
        "colab": {
          "base_uri": "https://localhost:8080/"
        },
        "outputId": "2da8ecba-4066-459d-9078-7093454e38f3"
      },
      "outputs": [
        {
          "output_type": "stream",
          "name": "stdout",
          "text": [
            "hey y all just showed back up to campus last night and completely forgot that the food court closes early on friday nights no real money to speak of until financial aid kicks in and i could use food that isn t a vending machine bag of chips shoot once i start getting my housing allowance i ll even return the favor tl dr i m an idiotic sophomore sometimes ;D\n",
            "[104, 2, 2, 2, 300, 261, 2, 2, 301, 45, 46, 2, 302, 167, 2, 2, 14, 303, 304, 305, 2, 306, 137, 2, 307, 8, 2, 308, 2, 2, 195, 309, 310, 2, 2, 2, 176, 311, 14, 2, 2, 2, 2, 312, 313, 314, 2, 315, 316, 2, 2, 317, 204, 2, 318, 319, 2, 2, 95, 212, 2, 213, 2, 2, 2, 2, 2, 320, 321, 322, 2]\n",
            "hey # # # showed back # # campus last night # completely forgot # # food court closes early # friday nights # real money # speak # # financial aid kicks # # # could use food # # # # vending machine bag # chips shoot # # start getting # housing allowance # # even return # favor # # # # # idiotic sophomore sometimes #\n"
          ]
        }
      ],
      "source": [
        "# Verify things are working as intended\n",
        "print(requests[10])\n",
        "print(token_requests[10])\n",
        "print(decode(token_requests[10]))"
      ]
    },
    {
      "cell_type": "code",
      "execution_count": null,
      "id": "e495471b",
      "metadata": {
        "id": "e495471b"
      },
      "outputs": [],
      "source": [
        "token_id_list = list(token_index.values())"
      ]
    },
    {
      "cell_type": "code",
      "execution_count": null,
      "id": "hrXXYXTXzcU_",
      "metadata": {
        "id": "hrXXYXTXzcU_"
      },
      "outputs": [],
      "source": []
    },
    {
      "cell_type": "code",
      "execution_count": null,
      "id": "3ivmnPJOxioz",
      "metadata": {
        "id": "3ivmnPJOxioz"
      },
      "outputs": [],
      "source": []
    },
    {
      "cell_type": "code",
      "execution_count": null,
      "id": "f2485bb6",
      "metadata": {
        "id": "f2485bb6"
      },
      "outputs": [],
      "source": [
        "def count_examples(token):\n",
        "    '''Counts the number of positive and negative examples containing token'''\n",
        "    pos_count = 0\n",
        "    neg_count = 0\n",
        "\n",
        "    # Loop through each request\n",
        "\n",
        "    for i in range(len(token_requests)):\n",
        "\n",
        "        if token in token_requests[i]:\n",
        "\n",
        "            # Add to positive example count\n",
        "            if Y[i] == True:\n",
        "                pos_count += 1\n",
        "\n",
        "            # Add to negative example count\n",
        "            if Y[i] == False:\n",
        "                neg_count += 1\n",
        "\n",
        "    return (pos_count, neg_count)"
      ]
    },
    {
      "cell_type": "code",
      "execution_count": null,
      "id": "23124eb3",
      "metadata": {
        "id": "23124eb3",
        "colab": {
          "base_uri": "https://localhost:8080/"
        },
        "outputId": "e8d0b6d7-e4ba-41f2-d93d-c20f7d74fc44"
      },
      "outputs": [
        {
          "output_type": "execute_result",
          "data": {
            "text/plain": [
              "(8, 8)"
            ]
          },
          "metadata": {},
          "execution_count": 31
        }
      ],
      "source": [
        "count_examples(500)"
      ]
    },
    {
      "cell_type": "code",
      "execution_count": null,
      "id": "2a2f5ef5",
      "metadata": {
        "id": "2a2f5ef5"
      },
      "outputs": [],
      "source": [
        "pos_count = []\n",
        "neg_count = []\n",
        "\n",
        "for token_id in token_id_list:\n",
        "    pos,neg = count_examples(token_id)\n",
        "    pos_count.append(pos)\n",
        "    neg_count.append(neg)"
      ]
    },
    {
      "cell_type": "code",
      "execution_count": null,
      "id": "c05dff6f",
      "metadata": {
        "id": "c05dff6f"
      },
      "outputs": [],
      "source": [
        "d = {\n",
        "    'word': token_id_list,\n",
        "    'n_pos': pos_count,\n",
        "    'n_neg': neg_count\n",
        "}"
      ]
    },
    {
      "cell_type": "code",
      "execution_count": null,
      "id": "3fbe23ab",
      "metadata": {
        "id": "3fbe23ab"
      },
      "outputs": [],
      "source": [
        "words_df = pd.DataFrame(d)"
      ]
    },
    {
      "cell_type": "code",
      "execution_count": null,
      "id": "79fc8822",
      "metadata": {
        "id": "79fc8822"
      },
      "outputs": [],
      "source": [
        "clean_df = words_df[words_df.n_pos > 50]\n",
        "clean_df = clean_df[words_df.n_neg > 50]"
      ]
    },
    {
      "cell_type": "code",
      "execution_count": null,
      "id": "f9c034dc",
      "metadata": {
        "id": "f9c034dc",
        "colab": {
          "base_uri": "https://localhost:8080/",
          "height": 833
        },
        "outputId": "3ec7ce76-6f06-43b2-d87c-3d4c896666ac"
      },
      "outputs": [
        {
          "output_type": "execute_result",
          "data": {
            "text/plain": [
              "     word  n_pos  n_neg\n",
              "86     87    143    102\n",
              "192   193    142     94\n",
              "369   370    142     98\n",
              "216   217    133    107\n",
              "723   724    132     79\n",
              "173   174    119     95\n",
              "105   106    115    113\n",
              "112   113    115     96\n",
              "135   136    113     80\n",
              "235   236    112     87\n",
              "162   163    112     95\n",
              "476   477    108     89\n",
              "80     81    107     82\n",
              "30     31    107     91\n",
              "153   154    107     99\n",
              "94     95    104     77\n",
              "22     23    103     86\n",
              "122   123    103     65\n",
              "134   135     99     65\n",
              "117   118     98     91\n",
              "73     74     97     69\n",
              "106   107     97    102\n",
              "234   235     96    100\n",
              "507   508     94     67\n",
              "554   555     94     51"
            ],
            "text/html": [
              "\n",
              "\n",
              "  <div id=\"df-c8a3bddf-9961-465e-94c3-a8d5bb82f243\">\n",
              "    <div class=\"colab-df-container\">\n",
              "      <div>\n",
              "<style scoped>\n",
              "    .dataframe tbody tr th:only-of-type {\n",
              "        vertical-align: middle;\n",
              "    }\n",
              "\n",
              "    .dataframe tbody tr th {\n",
              "        vertical-align: top;\n",
              "    }\n",
              "\n",
              "    .dataframe thead th {\n",
              "        text-align: right;\n",
              "    }\n",
              "</style>\n",
              "<table border=\"1\" class=\"dataframe\">\n",
              "  <thead>\n",
              "    <tr style=\"text-align: right;\">\n",
              "      <th></th>\n",
              "      <th>word</th>\n",
              "      <th>n_pos</th>\n",
              "      <th>n_neg</th>\n",
              "    </tr>\n",
              "  </thead>\n",
              "  <tbody>\n",
              "    <tr>\n",
              "      <th>86</th>\n",
              "      <td>87</td>\n",
              "      <td>143</td>\n",
              "      <td>102</td>\n",
              "    </tr>\n",
              "    <tr>\n",
              "      <th>192</th>\n",
              "      <td>193</td>\n",
              "      <td>142</td>\n",
              "      <td>94</td>\n",
              "    </tr>\n",
              "    <tr>\n",
              "      <th>369</th>\n",
              "      <td>370</td>\n",
              "      <td>142</td>\n",
              "      <td>98</td>\n",
              "    </tr>\n",
              "    <tr>\n",
              "      <th>216</th>\n",
              "      <td>217</td>\n",
              "      <td>133</td>\n",
              "      <td>107</td>\n",
              "    </tr>\n",
              "    <tr>\n",
              "      <th>723</th>\n",
              "      <td>724</td>\n",
              "      <td>132</td>\n",
              "      <td>79</td>\n",
              "    </tr>\n",
              "    <tr>\n",
              "      <th>173</th>\n",
              "      <td>174</td>\n",
              "      <td>119</td>\n",
              "      <td>95</td>\n",
              "    </tr>\n",
              "    <tr>\n",
              "      <th>105</th>\n",
              "      <td>106</td>\n",
              "      <td>115</td>\n",
              "      <td>113</td>\n",
              "    </tr>\n",
              "    <tr>\n",
              "      <th>112</th>\n",
              "      <td>113</td>\n",
              "      <td>115</td>\n",
              "      <td>96</td>\n",
              "    </tr>\n",
              "    <tr>\n",
              "      <th>135</th>\n",
              "      <td>136</td>\n",
              "      <td>113</td>\n",
              "      <td>80</td>\n",
              "    </tr>\n",
              "    <tr>\n",
              "      <th>235</th>\n",
              "      <td>236</td>\n",
              "      <td>112</td>\n",
              "      <td>87</td>\n",
              "    </tr>\n",
              "    <tr>\n",
              "      <th>162</th>\n",
              "      <td>163</td>\n",
              "      <td>112</td>\n",
              "      <td>95</td>\n",
              "    </tr>\n",
              "    <tr>\n",
              "      <th>476</th>\n",
              "      <td>477</td>\n",
              "      <td>108</td>\n",
              "      <td>89</td>\n",
              "    </tr>\n",
              "    <tr>\n",
              "      <th>80</th>\n",
              "      <td>81</td>\n",
              "      <td>107</td>\n",
              "      <td>82</td>\n",
              "    </tr>\n",
              "    <tr>\n",
              "      <th>30</th>\n",
              "      <td>31</td>\n",
              "      <td>107</td>\n",
              "      <td>91</td>\n",
              "    </tr>\n",
              "    <tr>\n",
              "      <th>153</th>\n",
              "      <td>154</td>\n",
              "      <td>107</td>\n",
              "      <td>99</td>\n",
              "    </tr>\n",
              "    <tr>\n",
              "      <th>94</th>\n",
              "      <td>95</td>\n",
              "      <td>104</td>\n",
              "      <td>77</td>\n",
              "    </tr>\n",
              "    <tr>\n",
              "      <th>22</th>\n",
              "      <td>23</td>\n",
              "      <td>103</td>\n",
              "      <td>86</td>\n",
              "    </tr>\n",
              "    <tr>\n",
              "      <th>122</th>\n",
              "      <td>123</td>\n",
              "      <td>103</td>\n",
              "      <td>65</td>\n",
              "    </tr>\n",
              "    <tr>\n",
              "      <th>134</th>\n",
              "      <td>135</td>\n",
              "      <td>99</td>\n",
              "      <td>65</td>\n",
              "    </tr>\n",
              "    <tr>\n",
              "      <th>117</th>\n",
              "      <td>118</td>\n",
              "      <td>98</td>\n",
              "      <td>91</td>\n",
              "    </tr>\n",
              "    <tr>\n",
              "      <th>73</th>\n",
              "      <td>74</td>\n",
              "      <td>97</td>\n",
              "      <td>69</td>\n",
              "    </tr>\n",
              "    <tr>\n",
              "      <th>106</th>\n",
              "      <td>107</td>\n",
              "      <td>97</td>\n",
              "      <td>102</td>\n",
              "    </tr>\n",
              "    <tr>\n",
              "      <th>234</th>\n",
              "      <td>235</td>\n",
              "      <td>96</td>\n",
              "      <td>100</td>\n",
              "    </tr>\n",
              "    <tr>\n",
              "      <th>507</th>\n",
              "      <td>508</td>\n",
              "      <td>94</td>\n",
              "      <td>67</td>\n",
              "    </tr>\n",
              "    <tr>\n",
              "      <th>554</th>\n",
              "      <td>555</td>\n",
              "      <td>94</td>\n",
              "      <td>51</td>\n",
              "    </tr>\n",
              "  </tbody>\n",
              "</table>\n",
              "</div>\n",
              "      <button class=\"colab-df-convert\" onclick=\"convertToInteractive('df-c8a3bddf-9961-465e-94c3-a8d5bb82f243')\"\n",
              "              title=\"Convert this dataframe to an interactive table.\"\n",
              "              style=\"display:none;\">\n",
              "\n",
              "  <svg xmlns=\"http://www.w3.org/2000/svg\" height=\"24px\"viewBox=\"0 0 24 24\"\n",
              "       width=\"24px\">\n",
              "    <path d=\"M0 0h24v24H0V0z\" fill=\"none\"/>\n",
              "    <path d=\"M18.56 5.44l.94 2.06.94-2.06 2.06-.94-2.06-.94-.94-2.06-.94 2.06-2.06.94zm-11 1L8.5 8.5l.94-2.06 2.06-.94-2.06-.94L8.5 2.5l-.94 2.06-2.06.94zm10 10l.94 2.06.94-2.06 2.06-.94-2.06-.94-.94-2.06-.94 2.06-2.06.94z\"/><path d=\"M17.41 7.96l-1.37-1.37c-.4-.4-.92-.59-1.43-.59-.52 0-1.04.2-1.43.59L10.3 9.45l-7.72 7.72c-.78.78-.78 2.05 0 2.83L4 21.41c.39.39.9.59 1.41.59.51 0 1.02-.2 1.41-.59l7.78-7.78 2.81-2.81c.8-.78.8-2.07 0-2.86zM5.41 20L4 18.59l7.72-7.72 1.47 1.35L5.41 20z\"/>\n",
              "  </svg>\n",
              "      </button>\n",
              "\n",
              "\n",
              "\n",
              "    <div id=\"df-8bf4c2d9-5974-4b32-bb5a-81bdb130c083\">\n",
              "      <button class=\"colab-df-quickchart\" onclick=\"quickchart('df-8bf4c2d9-5974-4b32-bb5a-81bdb130c083')\"\n",
              "              title=\"Suggest charts.\"\n",
              "              style=\"display:none;\">\n",
              "\n",
              "<svg xmlns=\"http://www.w3.org/2000/svg\" height=\"24px\"viewBox=\"0 0 24 24\"\n",
              "     width=\"24px\">\n",
              "    <g>\n",
              "        <path d=\"M19 3H5c-1.1 0-2 .9-2 2v14c0 1.1.9 2 2 2h14c1.1 0 2-.9 2-2V5c0-1.1-.9-2-2-2zM9 17H7v-7h2v7zm4 0h-2V7h2v10zm4 0h-2v-4h2v4z\"/>\n",
              "    </g>\n",
              "</svg>\n",
              "      </button>\n",
              "    </div>\n",
              "\n",
              "<style>\n",
              "  .colab-df-quickchart {\n",
              "    background-color: #E8F0FE;\n",
              "    border: none;\n",
              "    border-radius: 50%;\n",
              "    cursor: pointer;\n",
              "    display: none;\n",
              "    fill: #1967D2;\n",
              "    height: 32px;\n",
              "    padding: 0 0 0 0;\n",
              "    width: 32px;\n",
              "  }\n",
              "\n",
              "  .colab-df-quickchart:hover {\n",
              "    background-color: #E2EBFA;\n",
              "    box-shadow: 0px 1px 2px rgba(60, 64, 67, 0.3), 0px 1px 3px 1px rgba(60, 64, 67, 0.15);\n",
              "    fill: #174EA6;\n",
              "  }\n",
              "\n",
              "  [theme=dark] .colab-df-quickchart {\n",
              "    background-color: #3B4455;\n",
              "    fill: #D2E3FC;\n",
              "  }\n",
              "\n",
              "  [theme=dark] .colab-df-quickchart:hover {\n",
              "    background-color: #434B5C;\n",
              "    box-shadow: 0px 1px 3px 1px rgba(0, 0, 0, 0.15);\n",
              "    filter: drop-shadow(0px 1px 2px rgba(0, 0, 0, 0.3));\n",
              "    fill: #FFFFFF;\n",
              "  }\n",
              "</style>\n",
              "\n",
              "    <script>\n",
              "      async function quickchart(key) {\n",
              "        const containerElement = document.querySelector('#' + key);\n",
              "        const charts = await google.colab.kernel.invokeFunction(\n",
              "            'suggestCharts', [key], {});\n",
              "      }\n",
              "    </script>\n",
              "\n",
              "      <script>\n",
              "\n",
              "function displayQuickchartButton(domScope) {\n",
              "  let quickchartButtonEl =\n",
              "    domScope.querySelector('#df-8bf4c2d9-5974-4b32-bb5a-81bdb130c083 button.colab-df-quickchart');\n",
              "  quickchartButtonEl.style.display =\n",
              "    google.colab.kernel.accessAllowed ? 'block' : 'none';\n",
              "}\n",
              "\n",
              "        displayQuickchartButton(document);\n",
              "      </script>\n",
              "      <style>\n",
              "    .colab-df-container {\n",
              "      display:flex;\n",
              "      flex-wrap:wrap;\n",
              "      gap: 12px;\n",
              "    }\n",
              "\n",
              "    .colab-df-convert {\n",
              "      background-color: #E8F0FE;\n",
              "      border: none;\n",
              "      border-radius: 50%;\n",
              "      cursor: pointer;\n",
              "      display: none;\n",
              "      fill: #1967D2;\n",
              "      height: 32px;\n",
              "      padding: 0 0 0 0;\n",
              "      width: 32px;\n",
              "    }\n",
              "\n",
              "    .colab-df-convert:hover {\n",
              "      background-color: #E2EBFA;\n",
              "      box-shadow: 0px 1px 2px rgba(60, 64, 67, 0.3), 0px 1px 3px 1px rgba(60, 64, 67, 0.15);\n",
              "      fill: #174EA6;\n",
              "    }\n",
              "\n",
              "    [theme=dark] .colab-df-convert {\n",
              "      background-color: #3B4455;\n",
              "      fill: #D2E3FC;\n",
              "    }\n",
              "\n",
              "    [theme=dark] .colab-df-convert:hover {\n",
              "      background-color: #434B5C;\n",
              "      box-shadow: 0px 1px 3px 1px rgba(0, 0, 0, 0.15);\n",
              "      filter: drop-shadow(0px 1px 2px rgba(0, 0, 0, 0.3));\n",
              "      fill: #FFFFFF;\n",
              "    }\n",
              "  </style>\n",
              "\n",
              "      <script>\n",
              "        const buttonEl =\n",
              "          document.querySelector('#df-c8a3bddf-9961-465e-94c3-a8d5bb82f243 button.colab-df-convert');\n",
              "        buttonEl.style.display =\n",
              "          google.colab.kernel.accessAllowed ? 'block' : 'none';\n",
              "\n",
              "        async function convertToInteractive(key) {\n",
              "          const element = document.querySelector('#df-c8a3bddf-9961-465e-94c3-a8d5bb82f243');\n",
              "          const dataTable =\n",
              "            await google.colab.kernel.invokeFunction('convertToInteractive',\n",
              "                                                     [key], {});\n",
              "          if (!dataTable) return;\n",
              "\n",
              "          const docLinkHtml = 'Like what you see? Visit the ' +\n",
              "            '<a target=\"_blank\" href=https://colab.research.google.com/notebooks/data_table.ipynb>data table notebook</a>'\n",
              "            + ' to learn more about interactive tables.';\n",
              "          element.innerHTML = '';\n",
              "          dataTable['output_type'] = 'display_data';\n",
              "          await google.colab.output.renderOutput(dataTable, element);\n",
              "          const docLink = document.createElement('div');\n",
              "          docLink.innerHTML = docLinkHtml;\n",
              "          element.appendChild(docLink);\n",
              "        }\n",
              "      </script>\n",
              "    </div>\n",
              "  </div>\n"
            ]
          },
          "metadata": {},
          "execution_count": 36
        }
      ],
      "source": [
        "clean_df.sort_values('n_pos', ascending = False)[25:50]"
      ]
    },
    {
      "cell_type": "code",
      "execution_count": null,
      "id": "b6402c62",
      "metadata": {
        "id": "b6402c62",
        "colab": {
          "base_uri": "https://localhost:8080/",
          "height": 35
        },
        "outputId": "4cb0c54a-6a33-4ed2-b91d-72f35a09c103"
      },
      "outputs": [
        {
          "output_type": "execute_result",
          "data": {
            "text/plain": [
              "'divorced'"
            ],
            "application/vnd.google.colaboratory.intrinsic+json": {
              "type": "string"
            }
          },
          "metadata": {},
          "execution_count": 37
        }
      ],
      "source": [
        "decode([49])"
      ]
    },
    {
      "cell_type": "code",
      "execution_count": null,
      "id": "237b9373",
      "metadata": {
        "id": "237b9373"
      },
      "outputs": [],
      "source": [
        "padded_token_requests = pad_data(token_requests, 100)"
      ]
    },
    {
      "cell_type": "code",
      "execution_count": 59,
      "id": "029cdb99",
      "metadata": {
        "id": "029cdb99"
      },
      "outputs": [],
      "source": [
        "reduced_token_requests = limit_vocab(padded_token_requests, max_token_id=2232)"
      ]
    },
    {
      "cell_type": "code",
      "execution_count": 63,
      "id": "38aa7df3",
      "metadata": {
        "id": "38aa7df3"
      },
      "outputs": [],
      "source": [
        "reduced_one_hot = tf.keras.utils.to_categorical(reduced_token_requests)"
      ]
    },
    {
      "cell_type": "code",
      "execution_count": 64,
      "id": "078a1647",
      "metadata": {
        "id": "078a1647",
        "colab": {
          "base_uri": "https://localhost:8080/"
        },
        "outputId": "ff7be2fa-227d-4bd2-e8a5-da62c54d8821"
      },
      "outputs": [
        {
          "output_type": "execute_result",
          "data": {
            "text/plain": [
              "1789"
            ]
          },
          "metadata": {},
          "execution_count": 64
        }
      ],
      "source": [
        "len(reduced_one_hot)"
      ]
    },
    {
      "cell_type": "code",
      "source": [
        "X_train = reduced_one_hot\n",
        "Y_train = Y"
      ],
      "metadata": {
        "id": "6M37ajQXZxUr"
      },
      "id": "6M37ajQXZxUr",
      "execution_count": 65,
      "outputs": []
    },
    {
      "cell_type": "code",
      "execution_count": 47,
      "id": "d6fe5804",
      "metadata": {
        "id": "d6fe5804"
      },
      "outputs": [],
      "source": [
        "def plot_history(history):\n",
        "  plt.ylabel('Loss')\n",
        "  plt.xlabel('Epoch')\n",
        "  plt.xticks(range(0, len(history['loss'] + 1)))\n",
        "  plt.plot(history['loss'], label=\"training\", marker='o')\n",
        "  #plt.plot(history['val_loss'], label=\"validation\", marker='o')\n",
        "  plt.legend()\n",
        "  plt.show()"
      ]
    },
    {
      "cell_type": "code",
      "execution_count": null,
      "id": "c20490df",
      "metadata": {
        "id": "c20490df"
      },
      "outputs": [],
      "source": [
        "def build_onehot_model3(average_over_positions=False):\n",
        "  \"\"\"Build a tf.keras model for one-hot data.\"\"\"\n",
        "  # Clear session and remove randomness.\n",
        "  tf.keras.backend.clear_session()\n",
        "  tf.random.set_seed(0)\n",
        "\n",
        "  model = tf.keras.Sequential()\n",
        "  if average_over_positions:\n",
        "    # This layer averages over the first dimension of the input by default.\n",
        "    model.add(tf.keras.layers.GlobalAveragePooling1D())\n",
        "  else:\n",
        "    # Concatenate.\n",
        "    model.add(tf.keras.layers.Flatten())\n",
        "  model.add(tf.keras.layers.Dense(\n",
        "      units=1,                     # output dim (for binary classification)\n",
        "      activation=\"sigmoid\"         # sigmoid activation for classification\n",
        "  ))\n",
        "\n",
        "  model.compile(loss=tf.keras.losses.BinaryCrossentropy(),\n",
        "                optimizer=tf.keras.optimizers.Adam(learning_rate=.01),\n",
        "                metrics=[tf.keras.metrics.BinaryAccuracy()])\n",
        "\n",
        "  return model"
      ]
    },
    {
      "cell_type": "code",
      "execution_count": 67,
      "id": "ae1db4bf",
      "metadata": {
        "id": "ae1db4bf"
      },
      "outputs": [],
      "source": [
        "model5 = build_onehot_model3(average_over_positions=False)"
      ]
    },
    {
      "cell_type": "code",
      "execution_count": 68,
      "id": "bplzPLLfoVAH",
      "metadata": {
        "colab": {
          "base_uri": "https://localhost:8080/",
          "height": 970
        },
        "id": "bplzPLLfoVAH",
        "outputId": "510a8304-9df4-48c5-b033-49b6223b92ac"
      },
      "outputs": [
        {
          "output_type": "stream",
          "name": "stdout",
          "text": [
            "Epoch 1/15\n",
            "28/28 [==============================] - 1s 29ms/step - loss: 0.7067 - binary_accuracy: 0.5316\n",
            "Epoch 2/15\n",
            "28/28 [==============================] - 1s 31ms/step - loss: 0.3626 - binary_accuracy: 0.9312\n",
            "Epoch 3/15\n",
            "28/28 [==============================] - 1s 33ms/step - loss: 0.2377 - binary_accuracy: 0.9581\n",
            "Epoch 4/15\n",
            "28/28 [==============================] - 1s 31ms/step - loss: 0.1793 - binary_accuracy: 0.9765\n",
            "Epoch 5/15\n",
            "28/28 [==============================] - 1s 31ms/step - loss: 0.1450 - binary_accuracy: 0.9771\n",
            "Epoch 6/15\n",
            "28/28 [==============================] - 1s 29ms/step - loss: 0.1197 - binary_accuracy: 0.9816\n",
            "Epoch 7/15\n",
            "28/28 [==============================] - 1s 30ms/step - loss: 0.1022 - binary_accuracy: 0.9849\n",
            "Epoch 8/15\n",
            "28/28 [==============================] - 1s 32ms/step - loss: 0.0893 - binary_accuracy: 0.9838\n",
            "Epoch 9/15\n",
            "28/28 [==============================] - 1s 30ms/step - loss: 0.0787 - binary_accuracy: 0.9855\n",
            "Epoch 10/15\n",
            "28/28 [==============================] - 1s 31ms/step - loss: 0.0709 - binary_accuracy: 0.9860\n",
            "Epoch 11/15\n",
            "28/28 [==============================] - 1s 32ms/step - loss: 0.0645 - binary_accuracy: 0.9883\n",
            "Epoch 12/15\n",
            "28/28 [==============================] - 1s 35ms/step - loss: 0.0608 - binary_accuracy: 0.9866\n",
            "Epoch 13/15\n",
            "28/28 [==============================] - 1s 36ms/step - loss: 0.0585 - binary_accuracy: 0.9860\n",
            "Epoch 14/15\n",
            "28/28 [==============================] - 1s 36ms/step - loss: 0.0527 - binary_accuracy: 0.9894\n",
            "Epoch 15/15\n",
            "28/28 [==============================] - 1s 30ms/step - loss: 0.0487 - binary_accuracy: 0.9894\n"
          ]
        },
        {
          "output_type": "display_data",
          "data": {
            "text/plain": [
              "<Figure size 640x480 with 1 Axes>"
            ],
            "image/png": "[encoded data removed]"
          },
          "metadata": {}
        }
      ],
      "source": [
        "history5 = model5.fit(\n",
        "  x = X_train,  # one-hot training data\n",
        "  y = Y_train,          # corresponding binary labels\n",
        "  epochs=15,             # number of passes through the training data\n",
        "  batch_size=64,        # mini-batch size\n",
        "   # use a fraction of the examples for validation\n",
        "  verbose=1             # display some progress output during training\n",
        "  )\n",
        "\n",
        "# Convert the return value into a DataFrame so we can see the train loss\n",
        "# and binary accuracy after every epoch.\n",
        "history5 = pd.DataFrame(history5.history)\n",
        "plot_history(history5)"
      ]
    },
    {
      "cell_type": "code",
      "source": [
        "Y_val = val_labels"
      ],
      "metadata": {
        "id": "cNmNsr33amM3"
      },
      "id": "cNmNsr33amM3",
      "execution_count": 69,
      "outputs": []
    },
    {
      "cell_type": "code",
      "source": [
        "val_data['request_text_edit_aware'] = val_data['request_text_edit_aware'].apply(preprocessor)"
      ],
      "metadata": {
        "id": "zTmY4mxlbRqK"
      },
      "id": "zTmY4mxlbRqK",
      "execution_count": 70,
      "outputs": []
    },
    {
      "cell_type": "code",
      "source": [
        "val_requests = val_data['request_text_edit_aware']"
      ],
      "metadata": {
        "id": "xcDmKwH5bJoE"
      },
      "id": "xcDmKwH5bJoE",
      "execution_count": 71,
      "outputs": []
    },
    {
      "cell_type": "code",
      "source": [
        "val_requests"
      ],
      "metadata": {
        "id": "uFtfRe7SelJH",
        "colab": {
          "base_uri": "https://localhost:8080/"
        },
        "outputId": "bc8e7663-fdd3-416e-8b40-1e67dd714355"
      },
      "id": "uFtfRe7SelJH",
      "execution_count": 72,
      "outputs": [
        {
          "output_type": "execute_result",
          "data": {
            "text/plain": [
              "0      we ve been pretty responsible people my girlfr...\n",
              "1      just a guy out of money after christmas shoppi...\n",
              "2      this summer has been pretty rough the last of ...\n",
              "3      it is that time of the month where bills are d...\n",
              "4      hello fellow redditors i lost my job earlier t...\n",
              "                             ...                        \n",
              "194    my girlfriend and i are both recent college gr...\n",
              "195    i m as broke as i ve ever been and hungry i m ...\n",
              "196                                                     \n",
              "197    so we re having a house show and pizza boxes m...\n",
              "198    i hurt my hip and can t walk or stand long eno...\n",
              "Name: request_text_edit_aware, Length: 199, dtype: object"
            ]
          },
          "metadata": {},
          "execution_count": 72
        }
      ]
    },
    {
      "cell_type": "code",
      "source": [
        "token_index = create_token_index(val_requests)"
      ],
      "metadata": {
        "id": "eJXOB88UbfDf"
      },
      "id": "eJXOB88UbfDf",
      "execution_count": 73,
      "outputs": []
    },
    {
      "cell_type": "code",
      "source": [
        "val_token_requests = tokenize(val_requests)"
      ],
      "metadata": {
        "id": "8i-fMjGHbhrL"
      },
      "id": "8i-fMjGHbhrL",
      "execution_count": 74,
      "outputs": []
    },
    {
      "cell_type": "code",
      "source": [
        "val_padded_token_requests = pad_data(val_token_requests, 100)\n",
        "val_reduced_token_requests = limit_vocab(val_padded_token_requests, max_token_id=2232)\n",
        "val_reduced_one_hot = tf.keras.utils.to_categorical(val_reduced_token_requests)\n",
        "val_reduced_one_hot.shape\n",
        "X_val = val_reduced_one_hot\n"
      ],
      "metadata": {
        "id": "UAD0rKjScRWB"
      },
      "id": "UAD0rKjScRWB",
      "execution_count": 75,
      "outputs": []
    },
    {
      "cell_type": "code",
      "source": [
        "X_val.shape"
      ],
      "metadata": {
        "id": "PkFlnPdMdddg",
        "colab": {
          "base_uri": "https://localhost:8080/"
        },
        "outputId": "10c5516a-e658-48f1-f376-0abf0968a002"
      },
      "id": "PkFlnPdMdddg",
      "execution_count": 76,
      "outputs": [
        {
          "output_type": "execute_result",
          "data": {
            "text/plain": [
              "(199, 100, 2232)"
            ]
          },
          "metadata": {},
          "execution_count": 76
        }
      ]
    },
    {
      "cell_type": "code",
      "source": [
        "X_train.shape"
      ],
      "metadata": {
        "id": "Q_rK6-b7ebn_",
        "colab": {
          "base_uri": "https://localhost:8080/"
        },
        "outputId": "80f7339a-5eb3-4341-d948-d2d660a3b79e"
      },
      "id": "Q_rK6-b7ebn_",
      "execution_count": 77,
      "outputs": [
        {
          "output_type": "execute_result",
          "data": {
            "text/plain": [
              "(1789, 100, 2232)"
            ]
          },
          "metadata": {},
          "execution_count": 77
        }
      ]
    },
    {
      "cell_type": "code",
      "source": [
        "history6 = model5.fit(\n",
        "  x = X_val,  # one-hot training data\n",
        "  y = Y_val,          # corresponding binary labels\n",
        "  epochs=15,             # number of passes through the training data\n",
        "  batch_size=64,        # mini-batch size\n",
        "   # use a fraction of the examples for validation\n",
        "  verbose=1             # display some progress output during training\n",
        "  )\n",
        "\n",
        "# Convert the return value into a DataFrame so we can see the train loss\n",
        "# and binary accuracy after every epoch.\n",
        "history6 = pd.DataFrame(history6.history)\n",
        "plot_history(history6)"
      ],
      "metadata": {
        "id": "eh7NCDK8c1kj",
        "colab": {
          "base_uri": "https://localhost:8080/",
          "height": 970
        },
        "outputId": "9e5c2ac3-de8a-4603-c826-cf0a13cdcc82"
      },
      "id": "eh7NCDK8c1kj",
      "execution_count": 78,
      "outputs": [
        {
          "output_type": "stream",
          "name": "stdout",
          "text": [
            "Epoch 1/15\n",
            "4/4 [==============================] - 0s 24ms/step - loss: 0.7597 - binary_accuracy: 0.5377\n",
            "Epoch 2/15\n",
            "4/4 [==============================] - 0s 24ms/step - loss: 0.3197 - binary_accuracy: 0.8794\n",
            "Epoch 3/15\n",
            "4/4 [==============================] - 0s 28ms/step - loss: 0.1257 - binary_accuracy: 0.9799\n",
            "Epoch 4/15\n",
            "4/4 [==============================] - 0s 27ms/step - loss: 0.0879 - binary_accuracy: 0.9548\n",
            "Epoch 5/15\n",
            "4/4 [==============================] - 0s 21ms/step - loss: 0.0710 - binary_accuracy: 0.9598\n",
            "Epoch 6/15\n",
            "4/4 [==============================] - 0s 27ms/step - loss: 0.0420 - binary_accuracy: 0.9899\n",
            "Epoch 7/15\n",
            "4/4 [==============================] - 0s 23ms/step - loss: 0.0422 - binary_accuracy: 0.9849\n",
            "Epoch 8/15\n",
            "4/4 [==============================] - 0s 26ms/step - loss: 0.0449 - binary_accuracy: 0.9849\n",
            "Epoch 9/15\n",
            "4/4 [==============================] - 0s 24ms/step - loss: 0.0374 - binary_accuracy: 0.9849\n",
            "Epoch 10/15\n",
            "4/4 [==============================] - 0s 27ms/step - loss: 0.0308 - binary_accuracy: 0.9899\n",
            "Epoch 11/15\n",
            "4/4 [==============================] - 0s 22ms/step - loss: 0.0309 - binary_accuracy: 0.9899\n",
            "Epoch 12/15\n",
            "4/4 [==============================] - 0s 26ms/step - loss: 0.0310 - binary_accuracy: 0.9899\n",
            "Epoch 13/15\n",
            "4/4 [==============================] - 0s 26ms/step - loss: 0.0296 - binary_accuracy: 0.9899\n",
            "Epoch 14/15\n",
            "4/4 [==============================] - 0s 24ms/step - loss: 0.0304 - binary_accuracy: 0.9899\n",
            "Epoch 15/15\n",
            "4/4 [==============================] - 0s 19ms/step - loss: 0.0327 - binary_accuracy: 0.9899\n"
          ]
        },
        {
          "output_type": "display_data",
          "data": {
            "text/plain": [
              "<Figure size 640x480 with 1 Axes>"
            ],
            "image/png": "[encoded data removed]"
          },
          "metadata": {}
        }
      ]
    },
    {
      "cell_type": "code",
      "execution_count": 79,
      "id": "j9OZd5fpoYV9",
      "metadata": {
        "id": "j9OZd5fpoYV9",
        "colab": {
          "base_uri": "https://localhost:8080/"
        },
        "outputId": "e143b8d6-d83d-4d01-c2cf-aff9851e32a5"
      },
      "outputs": [
        {
          "output_type": "stream",
          "name": "stdout",
          "text": [
            "7/7 [==============================] - 0s 8ms/step\n"
          ]
        },
        {
          "output_type": "execute_result",
          "data": {
            "text/plain": [
              "array([[ 96,   2],\n",
              "       [  0, 101]])"
            ]
          },
          "metadata": {},
          "execution_count": 79
        }
      ],
      "source": [
        "probabilities = model5.predict(X_val)\n",
        "threshold = 0.5\n",
        "binary_predictions = (probabilities > threshold).astype(int)\n",
        "confusion_matrix(Y_val, binary_predictions)"
      ]
    },
    {
      "cell_type": "code",
      "execution_count": 80,
      "id": "62f7c49e-1013-47ce-a633-71cd51e226f8",
      "metadata": {
        "id": "62f7c49e-1013-47ce-a633-71cd51e226f8",
        "colab": {
          "base_uri": "https://localhost:8080/",
          "height": 451
        },
        "outputId": "ee3e27d2-a367-42ba-d9d4-86626963a42b"
      },
      "outputs": [
        {
          "output_type": "display_data",
          "data": {
            "text/plain": [
              "<Figure size 640x480 with 2 Axes>"
            ],
            "image/png": "[encoded data removed]"
          },
          "metadata": {}
        }
      ],
      "source": [
        "\n",
        "\n",
        "cm = confusion_matrix(Y_val, binary_predictions)\n",
        "disp = ConfusionMatrixDisplay(confusion_matrix=cm)\n",
        "disp.plot()\n",
        "plt.show()"
      ]
    },
    {
      "cell_type": "code",
      "execution_count": null,
      "id": "929e1385",
      "metadata": {
        "id": "929e1385"
      },
      "outputs": [],
      "source": []
    },
    {
      "cell_type": "code",
      "execution_count": 81,
      "id": "175c8e67",
      "metadata": {
        "id": "175c8e67",
        "colab": {
          "base_uri": "https://localhost:8080/"
        },
        "outputId": "2f2b58ad-3115-4ece-9bcf-d651a719fb3f"
      },
      "outputs": [
        {
          "output_type": "stream",
          "name": "stdout",
          "text": [
            "              precision    recall  f1-score   support\n",
            "\n",
            "           0       1.00      0.98      0.99        98\n",
            "           1       0.98      1.00      0.99       101\n",
            "\n",
            "    accuracy                           0.99       199\n",
            "   macro avg       0.99      0.99      0.99       199\n",
            "weighted avg       0.99      0.99      0.99       199\n",
            "\n"
          ]
        }
      ],
      "source": [
        "# Show the classification report\n",
        "print(classification_report(Y_val, binary_predictions))\n"
      ]
    },
    {
      "cell_type": "code",
      "execution_count": 82,
      "id": "621db48b",
      "metadata": {
        "id": "621db48b"
      },
      "outputs": [],
      "source": [
        "test_data['request_text_edit_aware'] = test_data['request_text_edit_aware'].apply(preprocessor)"
      ]
    },
    {
      "cell_type": "code",
      "execution_count": 83,
      "id": "j58WcynE0HET",
      "metadata": {
        "id": "j58WcynE0HET"
      },
      "outputs": [],
      "source": [
        "test_requests = test_data['request_text_edit_aware']"
      ]
    },
    {
      "cell_type": "code",
      "execution_count": 84,
      "id": "cU20q_Bq0S4Z",
      "metadata": {
        "id": "cU20q_Bq0S4Z"
      },
      "outputs": [],
      "source": [
        "token_index = create_token_index(test_requests)"
      ]
    },
    {
      "cell_type": "code",
      "execution_count": 85,
      "id": "ab83d4iC0ZKP",
      "metadata": {
        "id": "ab83d4iC0ZKP"
      },
      "outputs": [],
      "source": [
        "test_token_requests = tokenize(test_requests)"
      ]
    },
    {
      "cell_type": "code",
      "execution_count": 86,
      "id": "3AP-hdYj1Iin",
      "metadata": {
        "id": "3AP-hdYj1Iin"
      },
      "outputs": [],
      "source": [
        "test_padded_token_requests = pad_data(test_token_requests, 100)"
      ]
    },
    {
      "cell_type": "code",
      "execution_count": 87,
      "id": "5IT8ubew1WV6",
      "metadata": {
        "id": "5IT8ubew1WV6"
      },
      "outputs": [],
      "source": [
        "test_reduced_token_requests = limit_vocab(test_padded_token_requests, max_token_id=2232)"
      ]
    },
    {
      "cell_type": "code",
      "execution_count": 88,
      "id": "bzDJupJV1bon",
      "metadata": {
        "id": "bzDJupJV1bon"
      },
      "outputs": [],
      "source": [
        "test_reduced_one_hot = tf.keras.utils.to_categorical(test_reduced_token_requests)"
      ]
    },
    {
      "cell_type": "code",
      "execution_count": 89,
      "id": "bHYDAkFN1l2-",
      "metadata": {
        "id": "bHYDAkFN1l2-",
        "colab": {
          "base_uri": "https://localhost:8080/"
        },
        "outputId": "194aa62c-79da-4a7e-8493-6408e05194b9"
      },
      "outputs": [
        {
          "output_type": "execute_result",
          "data": {
            "text/plain": [
              "(1631, 100, 2232)"
            ]
          },
          "metadata": {},
          "execution_count": 89
        }
      ],
      "source": [
        "test_reduced_one_hot.shape"
      ]
    },
    {
      "cell_type": "code",
      "execution_count": 90,
      "id": "8ls-lB9a2CUy",
      "metadata": {
        "id": "8ls-lB9a2CUy"
      },
      "outputs": [],
      "source": [
        "Y2 = training_data['requester_received_pizza']"
      ]
    },
    {
      "cell_type": "code",
      "execution_count": 91,
      "id": "6ZZnaR6v1sVl",
      "metadata": {
        "id": "6ZZnaR6v1sVl"
      },
      "outputs": [],
      "source": [
        "X_test = test_reduced_one_hot\n",
        "Y_test = Y2"
      ]
    },
    {
      "cell_type": "code",
      "execution_count": 92,
      "id": "pI85FDfc2Nmj",
      "metadata": {
        "id": "pI85FDfc2Nmj",
        "colab": {
          "base_uri": "https://localhost:8080/"
        },
        "outputId": "032e4aa8-4712-4eaa-cb00-f3b8c8a29239"
      },
      "outputs": [
        {
          "output_type": "execute_result",
          "data": {
            "text/plain": [
              "(1631, 100, 2232)"
            ]
          },
          "metadata": {},
          "execution_count": 92
        }
      ],
      "source": [
        "X_test.shape"
      ]
    },
    {
      "cell_type": "code",
      "execution_count": 93,
      "id": "810f39b5-e624-432b-a1b5-9946049e3b66",
      "metadata": {
        "id": "810f39b5-e624-432b-a1b5-9946049e3b66",
        "colab": {
          "base_uri": "https://localhost:8080/"
        },
        "outputId": "29d8cddc-cac1-4d99-c1e0-52261604c932"
      },
      "outputs": [
        {
          "output_type": "stream",
          "name": "stdout",
          "text": [
            "51/51 [==============================] - 1s 12ms/step\n"
          ]
        }
      ],
      "source": [
        "test_probabilities = model5.predict(X_test)\n",
        "threshold = 0.5\n",
        "test_binary_predictions = (test_probabilities > threshold).astype(int)"
      ]
    },
    {
      "cell_type": "code",
      "execution_count": 94,
      "id": "RuhYbp_C2Rd7",
      "metadata": {
        "id": "RuhYbp_C2Rd7",
        "colab": {
          "base_uri": "https://localhost:8080/"
        },
        "outputId": "d4359b60-a90e-4a4b-fd35-eaac2461f69d"
      },
      "outputs": [
        {
          "output_type": "stream",
          "name": "stdout",
          "text": [
            "51/51 [==============================] - 0s 8ms/step\n"
          ]
        }
      ],
      "source": [
        "predictions = model5.predict(X_test)"
      ]
    },
    {
      "cell_type": "code",
      "execution_count": 95,
      "id": "edfeb857-47b4-4de7-9e95-e7c7668d6270",
      "metadata": {
        "id": "edfeb857-47b4-4de7-9e95-e7c7668d6270",
        "colab": {
          "base_uri": "https://localhost:8080/"
        },
        "outputId": "67f2a6bb-2a83-4057-8192-422783c5ae2d"
      },
      "outputs": [
        {
          "output_type": "execute_result",
          "data": {
            "text/plain": [
              "array([[0],\n",
              "       [1],\n",
              "       [1],\n",
              "       ...,\n",
              "       [0],\n",
              "       [1],\n",
              "       [1]])"
            ]
          },
          "metadata": {},
          "execution_count": 95
        }
      ],
      "source": [
        "test_binary_predictions"
      ]
    },
    {
      "cell_type": "code",
      "execution_count": 97,
      "id": "6Nymx8Wt2d8c",
      "metadata": {
        "id": "6Nymx8Wt2d8c"
      },
      "outputs": [],
      "source": [
        "# function to create dataframe\n",
        "def get_submission_csv(predictions):\n",
        "    test_ids = test_data['request_id']\n",
        "\n",
        "    d = {'request_id': test_ids,\n",
        "    'requester_received_pizza': predictions}\n",
        "\n",
        "    df = pd.DataFrame(data=d)\n",
        "    df['requester_received_pizza'] = df['requester_received_pizza'].astype(int)\n",
        "\n",
        "    return df"
      ]
    },
    {
      "cell_type": "code",
      "execution_count": 98,
      "id": "tvmBB6ib2-Cl",
      "metadata": {
        "id": "tvmBB6ib2-Cl"
      },
      "outputs": [],
      "source": [
        "# flatten predictions\n",
        "test_predictions_flat = test_binary_predictions.flatten()\n",
        "\n",
        "# create dataframe using function\n",
        "test_predictions_df = get_submission_csv(test_predictions_flat)\n",
        "\n",
        "# create csv from dataframe\n",
        "test_predictions_df.to_csv('one_hot_model_predictions.csv', index=False)"
      ]
    },
    {
      "cell_type": "code",
      "execution_count": 99,
      "id": "JKuZ9eWX3BcL",
      "metadata": {
        "id": "JKuZ9eWX3BcL",
        "colab": {
          "base_uri": "https://localhost:8080/"
        },
        "outputId": "d4e818c5-b86b-4bbf-bda5-d84a9e2301e9"
      },
      "outputs": [
        {
          "output_type": "execute_result",
          "data": {
            "text/plain": [
              "0    974\n",
              "1    657\n",
              "Name: requester_received_pizza, dtype: int64"
            ]
          },
          "metadata": {},
          "execution_count": 99
        }
      ],
      "source": [
        "test_predictions_df['requester_received_pizza'].value_counts()"
      ]
    },
    {
      "cell_type": "code",
      "execution_count": 100,
      "id": "03fb217e-ac1e-468f-8f30-9369d2c6d5b4",
      "metadata": {
        "id": "03fb217e-ac1e-468f-8f30-9369d2c6d5b4",
        "colab": {
          "base_uri": "https://localhost:8080/",
          "height": 424
        },
        "outputId": "ae84510d-7573-4803-8aae-a16b9c575a0c"
      },
      "outputs": [
        {
          "output_type": "execute_result",
          "data": {
            "text/plain": [
              "     request_id  requester_received_pizza\n",
              "1     t3_1mfqi0                         1\n",
              "2      t3_lclka                         1\n",
              "5      t3_pvojb                         1\n",
              "8     t3_1lg6u2                         1\n",
              "9     t3_1b0mtx                         1\n",
              "...         ...                       ...\n",
              "1616  t3_10cy64                         1\n",
              "1623  t3_1cn0h3                         1\n",
              "1627  t3_11wza2                         1\n",
              "1629   t3_nys7g                         1\n",
              "1630  t3_17pmtu                         1\n",
              "\n",
              "[657 rows x 2 columns]"
            ],
            "text/html": [
              "\n",
              "\n",
              "  <div id=\"df-03767a86-d3ca-4c31-9194-b02670c05150\">\n",
              "    <div class=\"colab-df-container\">\n",
              "      <div>\n",
              "<style scoped>\n",
              "    .dataframe tbody tr th:only-of-type {\n",
              "        vertical-align: middle;\n",
              "    }\n",
              "\n",
              "    .dataframe tbody tr th {\n",
              "        vertical-align: top;\n",
              "    }\n",
              "\n",
              "    .dataframe thead th {\n",
              "        text-align: right;\n",
              "    }\n",
              "</style>\n",
              "<table border=\"1\" class=\"dataframe\">\n",
              "  <thead>\n",
              "    <tr style=\"text-align: right;\">\n",
              "      <th></th>\n",
              "      <th>request_id</th>\n",
              "      <th>requester_received_pizza</th>\n",
              "    </tr>\n",
              "  </thead>\n",
              "  <tbody>\n",
              "    <tr>\n",
              "      <th>1</th>\n",
              "      <td>t3_1mfqi0</td>\n",
              "      <td>1</td>\n",
              "    </tr>\n",
              "    <tr>\n",
              "      <th>2</th>\n",
              "      <td>t3_lclka</td>\n",
              "      <td>1</td>\n",
              "    </tr>\n",
              "    <tr>\n",
              "      <th>5</th>\n",
              "      <td>t3_pvojb</td>\n",
              "      <td>1</td>\n",
              "    </tr>\n",
              "    <tr>\n",
              "      <th>8</th>\n",
              "      <td>t3_1lg6u2</td>\n",
              "      <td>1</td>\n",
              "    </tr>\n",
              "    <tr>\n",
              "      <th>9</th>\n",
              "      <td>t3_1b0mtx</td>\n",
              "      <td>1</td>\n",
              "    </tr>\n",
              "    <tr>\n",
              "      <th>...</th>\n",
              "      <td>...</td>\n",
              "      <td>...</td>\n",
              "    </tr>\n",
              "    <tr>\n",
              "      <th>1616</th>\n",
              "      <td>t3_10cy64</td>\n",
              "      <td>1</td>\n",
              "    </tr>\n",
              "    <tr>\n",
              "      <th>1623</th>\n",
              "      <td>t3_1cn0h3</td>\n",
              "      <td>1</td>\n",
              "    </tr>\n",
              "    <tr>\n",
              "      <th>1627</th>\n",
              "      <td>t3_11wza2</td>\n",
              "      <td>1</td>\n",
              "    </tr>\n",
              "    <tr>\n",
              "      <th>1629</th>\n",
              "      <td>t3_nys7g</td>\n",
              "      <td>1</td>\n",
              "    </tr>\n",
              "    <tr>\n",
              "      <th>1630</th>\n",
              "      <td>t3_17pmtu</td>\n",
              "      <td>1</td>\n",
              "    </tr>\n",
              "  </tbody>\n",
              "</table>\n",
              "<p>657 rows × 2 columns</p>\n",
              "</div>\n",
              "      <button class=\"colab-df-convert\" onclick=\"convertToInteractive('df-03767a86-d3ca-4c31-9194-b02670c05150')\"\n",
              "              title=\"Convert this dataframe to an interactive table.\"\n",
              "              style=\"display:none;\">\n",
              "\n",
              "  <svg xmlns=\"http://www.w3.org/2000/svg\" height=\"24px\"viewBox=\"0 0 24 24\"\n",
              "       width=\"24px\">\n",
              "    <path d=\"M0 0h24v24H0V0z\" fill=\"none\"/>\n",
              "    <path d=\"M18.56 5.44l.94 2.06.94-2.06 2.06-.94-2.06-.94-.94-2.06-.94 2.06-2.06.94zm-11 1L8.5 8.5l.94-2.06 2.06-.94-2.06-.94L8.5 2.5l-.94 2.06-2.06.94zm10 10l.94 2.06.94-2.06 2.06-.94-2.06-.94-.94-2.06-.94 2.06-2.06.94z\"/><path d=\"M17.41 7.96l-1.37-1.37c-.4-.4-.92-.59-1.43-.59-.52 0-1.04.2-1.43.59L10.3 9.45l-7.72 7.72c-.78.78-.78 2.05 0 2.83L4 21.41c.39.39.9.59 1.41.59.51 0 1.02-.2 1.41-.59l7.78-7.78 2.81-2.81c.8-.78.8-2.07 0-2.86zM5.41 20L4 18.59l7.72-7.72 1.47 1.35L5.41 20z\"/>\n",
              "  </svg>\n",
              "      </button>\n",
              "\n",
              "\n",
              "\n",
              "    <div id=\"df-cb97682f-b3c2-444e-8ac0-70dbf50127ad\">\n",
              "      <button class=\"colab-df-quickchart\" onclick=\"quickchart('df-cb97682f-b3c2-444e-8ac0-70dbf50127ad')\"\n",
              "              title=\"Suggest charts.\"\n",
              "              style=\"display:none;\">\n",
              "\n",
              "<svg xmlns=\"http://www.w3.org/2000/svg\" height=\"24px\"viewBox=\"0 0 24 24\"\n",
              "     width=\"24px\">\n",
              "    <g>\n",
              "        <path d=\"M19 3H5c-1.1 0-2 .9-2 2v14c0 1.1.9 2 2 2h14c1.1 0 2-.9 2-2V5c0-1.1-.9-2-2-2zM9 17H7v-7h2v7zm4 0h-2V7h2v10zm4 0h-2v-4h2v4z\"/>\n",
              "    </g>\n",
              "</svg>\n",
              "      </button>\n",
              "    </div>\n",
              "\n",
              "<style>\n",
              "  .colab-df-quickchart {\n",
              "    background-color: #E8F0FE;\n",
              "    border: none;\n",
              "    border-radius: 50%;\n",
              "    cursor: pointer;\n",
              "    display: none;\n",
              "    fill: #1967D2;\n",
              "    height: 32px;\n",
              "    padding: 0 0 0 0;\n",
              "    width: 32px;\n",
              "  }\n",
              "\n",
              "  .colab-df-quickchart:hover {\n",
              "    background-color: #E2EBFA;\n",
              "    box-shadow: 0px 1px 2px rgba(60, 64, 67, 0.3), 0px 1px 3px 1px rgba(60, 64, 67, 0.15);\n",
              "    fill: #174EA6;\n",
              "  }\n",
              "\n",
              "  [theme=dark] .colab-df-quickchart {\n",
              "    background-color: #3B4455;\n",
              "    fill: #D2E3FC;\n",
              "  }\n",
              "\n",
              "  [theme=dark] .colab-df-quickchart:hover {\n",
              "    background-color: #434B5C;\n",
              "    box-shadow: 0px 1px 3px 1px rgba(0, 0, 0, 0.15);\n",
              "    filter: drop-shadow(0px 1px 2px rgba(0, 0, 0, 0.3));\n",
              "    fill: #FFFFFF;\n",
              "  }\n",
              "</style>\n",
              "\n",
              "    <script>\n",
              "      async function quickchart(key) {\n",
              "        const containerElement = document.querySelector('#' + key);\n",
              "        const charts = await google.colab.kernel.invokeFunction(\n",
              "            'suggestCharts', [key], {});\n",
              "      }\n",
              "    </script>\n",
              "\n",
              "      <script>\n",
              "\n",
              "function displayQuickchartButton(domScope) {\n",
              "  let quickchartButtonEl =\n",
              "    domScope.querySelector('#df-cb97682f-b3c2-444e-8ac0-70dbf50127ad button.colab-df-quickchart');\n",
              "  quickchartButtonEl.style.display =\n",
              "    google.colab.kernel.accessAllowed ? 'block' : 'none';\n",
              "}\n",
              "\n",
              "        displayQuickchartButton(document);\n",
              "      </script>\n",
              "      <style>\n",
              "    .colab-df-container {\n",
              "      display:flex;\n",
              "      flex-wrap:wrap;\n",
              "      gap: 12px;\n",
              "    }\n",
              "\n",
              "    .colab-df-convert {\n",
              "      background-color: #E8F0FE;\n",
              "      border: none;\n",
              "      border-radius: 50%;\n",
              "      cursor: pointer;\n",
              "      display: none;\n",
              "      fill: #1967D2;\n",
              "      height: 32px;\n",
              "      padding: 0 0 0 0;\n",
              "      width: 32px;\n",
              "    }\n",
              "\n",
              "    .colab-df-convert:hover {\n",
              "      background-color: #E2EBFA;\n",
              "      box-shadow: 0px 1px 2px rgba(60, 64, 67, 0.3), 0px 1px 3px 1px rgba(60, 64, 67, 0.15);\n",
              "      fill: #174EA6;\n",
              "    }\n",
              "\n",
              "    [theme=dark] .colab-df-convert {\n",
              "      background-color: #3B4455;\n",
              "      fill: #D2E3FC;\n",
              "    }\n",
              "\n",
              "    [theme=dark] .colab-df-convert:hover {\n",
              "      background-color: #434B5C;\n",
              "      box-shadow: 0px 1px 3px 1px rgba(0, 0, 0, 0.15);\n",
              "      filter: drop-shadow(0px 1px 2px rgba(0, 0, 0, 0.3));\n",
              "      fill: #FFFFFF;\n",
              "    }\n",
              "  </style>\n",
              "\n",
              "      <script>\n",
              "        const buttonEl =\n",
              "          document.querySelector('#df-03767a86-d3ca-4c31-9194-b02670c05150 button.colab-df-convert');\n",
              "        buttonEl.style.display =\n",
              "          google.colab.kernel.accessAllowed ? 'block' : 'none';\n",
              "\n",
              "        async function convertToInteractive(key) {\n",
              "          const element = document.querySelector('#df-03767a86-d3ca-4c31-9194-b02670c05150');\n",
              "          const dataTable =\n",
              "            await google.colab.kernel.invokeFunction('convertToInteractive',\n",
              "                                                     [key], {});\n",
              "          if (!dataTable) return;\n",
              "\n",
              "          const docLinkHtml = 'Like what you see? Visit the ' +\n",
              "            '<a target=\"_blank\" href=https://colab.research.google.com/notebooks/data_table.ipynb>data table notebook</a>'\n",
              "            + ' to learn more about interactive tables.';\n",
              "          element.innerHTML = '';\n",
              "          dataTable['output_type'] = 'display_data';\n",
              "          await google.colab.output.renderOutput(dataTable, element);\n",
              "          const docLink = document.createElement('div');\n",
              "          docLink.innerHTML = docLinkHtml;\n",
              "          element.appendChild(docLink);\n",
              "        }\n",
              "      </script>\n",
              "    </div>\n",
              "  </div>\n"
            ]
          },
          "metadata": {},
          "execution_count": 100
        }
      ],
      "source": [
        "test_predictions_df[test_predictions_df['requester_received_pizza'] == 1]"
      ]
    },
    {
      "cell_type": "code",
      "source": [],
      "metadata": {
        "id": "eRRsLdPMcc4A"
      },
      "id": "eRRsLdPMcc4A",
      "execution_count": null,
      "outputs": []
    }
  ],
  "metadata": {
    "colab": {
      "provenance": [],
      "machine_shape": "hm"
    },
    "kernelspec": {
      "display_name": "Python 3",
      "name": "python3"
    },
    "language_info": {
      "codemirror_mode": {
        "name": "ipython",
        "version": 3
      },
      "file_extension": ".py",
      "mimetype": "text/x-python",
      "name": "python",
      "nbconvert_exporter": "python",
      "pygments_lexer": "ipython3",
      "version": "3.9.16"
    }
  },
  "nbformat": 4,
  "nbformat_minor": 5
}