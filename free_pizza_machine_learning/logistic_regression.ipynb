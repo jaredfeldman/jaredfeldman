{
  "cells": [
    {
      "cell_type": "code",
      "execution_count": null,
      "metadata": {
        "colab": {
          "base_uri": "https://localhost:8080/",
          "height": 108
        },
        "id": "R9v1ClT_1Vel",
        "outputId": "fe09e2ad-c76d-4b63-b93f-2dced84f796a"
      },
      "outputs": [
        {
          "output_type": "display_data",
          "data": {
            "text/plain": [
              "<IPython.core.display.HTML object>"
            ],
            "text/html": [
              "\n",
              "     <input type=\"file\" id=\"files-198f774e-6f8f-4277-9fbe-42fd8d34af87\" name=\"files[]\" multiple disabled\n",
              "        style=\"border:none\" />\n",
              "     <output id=\"result-198f774e-6f8f-4277-9fbe-42fd8d34af87\">\n",
              "      Upload widget is only available when the cell has been executed in the\n",
              "      current browser session. Please rerun this cell to enable.\n",
              "      </output>\n",
              "      <script>// Copyright 2017 Google LLC\n",
              "//\n",
              "// Licensed under the Apache License, Version 2.0 (the \"License\");\n",
              "// you may not use this file except in compliance with the License.\n",
              "// You may obtain a copy of the License at\n",
              "//\n",
              "//      http://www.apache.org/licenses/LICENSE-2.0\n",
              "//\n",
              "// Unless required by applicable law or agreed to in writing, software\n",
              "// distributed under the License is distributed on an \"AS IS\" BASIS,\n",
              "// WITHOUT WARRANTIES OR CONDITIONS OF ANY KIND, either express or implied.\n",
              "// See the License for the specific language governing permissions and\n",
              "// limitations under the License.\n",
              "\n",
              "/**\n",
              " * @fileoverview Helpers for google.colab Python module.\n",
              " */\n",
              "(function(scope) {\n",
              "function span(text, styleAttributes = {}) {\n",
              "  const element = document.createElement('span');\n",
              "  element.textContent = text;\n",
              "  for (const key of Object.keys(styleAttributes)) {\n",
              "    element.style[key] = styleAttributes[key];\n",
              "  }\n",
              "  return element;\n",
              "}\n",
              "\n",
              "// Max number of bytes which will be uploaded at a time.\n",
              "const MAX_PAYLOAD_SIZE = 100 * 1024;\n",
              "\n",
              "function _uploadFiles(inputId, outputId) {\n",
              "  const steps = uploadFilesStep(inputId, outputId);\n",
              "  const outputElement = document.getElementById(outputId);\n",
              "  // Cache steps on the outputElement to make it available for the next call\n",
              "  // to uploadFilesContinue from Python.\n",
              "  outputElement.steps = steps;\n",
              "\n",
              "  return _uploadFilesContinue(outputId);\n",
              "}\n",
              "\n",
              "// This is roughly an async generator (not supported in the browser yet),\n",
              "// where there are multiple asynchronous steps and the Python side is going\n",
              "// to poll for completion of each step.\n",
              "// This uses a Promise to block the python side on completion of each step,\n",
              "// then passes the result of the previous step as the input to the next step.\n",
              "function _uploadFilesContinue(outputId) {\n",
              "  const outputElement = document.getElementById(outputId);\n",
              "  const steps = outputElement.steps;\n",
              "\n",
              "  const next = steps.next(outputElement.lastPromiseValue);\n",
              "  return Promise.resolve(next.value.promise).then((value) => {\n",
              "    // Cache the last promise value to make it available to the next\n",
              "    // step of the generator.\n",
              "    outputElement.lastPromiseValue = value;\n",
              "    return next.value.response;\n",
              "  });\n",
              "}\n",
              "\n",
              "/**\n",
              " * Generator function which is called between each async step of the upload\n",
              " * process.\n",
              " * @param {string} inputId Element ID of the input file picker element.\n",
              " * @param {string} outputId Element ID of the output display.\n",
              " * @return {!Iterable<!Object>} Iterable of next steps.\n",
              " */\n",
              "function* uploadFilesStep(inputId, outputId) {\n",
              "  const inputElement = document.getElementById(inputId);\n",
              "  inputElement.disabled = false;\n",
              "\n",
              "  const outputElement = document.getElementById(outputId);\n",
              "  outputElement.innerHTML = '';\n",
              "\n",
              "  const pickedPromise = new Promise((resolve) => {\n",
              "    inputElement.addEventListener('change', (e) => {\n",
              "      resolve(e.target.files);\n",
              "    });\n",
              "  });\n",
              "\n",
              "  const cancel = document.createElement('button');\n",
              "  inputElement.parentElement.appendChild(cancel);\n",
              "  cancel.textContent = 'Cancel upload';\n",
              "  const cancelPromise = new Promise((resolve) => {\n",
              "    cancel.onclick = () => {\n",
              "      resolve(null);\n",
              "    };\n",
              "  });\n",
              "\n",
              "  // Wait for the user to pick the files.\n",
              "  const files = yield {\n",
              "    promise: Promise.race([pickedPromise, cancelPromise]),\n",
              "    response: {\n",
              "      action: 'starting',\n",
              "    }\n",
              "  };\n",
              "\n",
              "  cancel.remove();\n",
              "\n",
              "  // Disable the input element since further picks are not allowed.\n",
              "  inputElement.disabled = true;\n",
              "\n",
              "  if (!files) {\n",
              "    return {\n",
              "      response: {\n",
              "        action: 'complete',\n",
              "      }\n",
              "    };\n",
              "  }\n",
              "\n",
              "  for (const file of files) {\n",
              "    const li = document.createElement('li');\n",
              "    li.append(span(file.name, {fontWeight: 'bold'}));\n",
              "    li.append(span(\n",
              "        `(${file.type || 'n/a'}) - ${file.size} bytes, ` +\n",
              "        `last modified: ${\n",
              "            file.lastModifiedDate ? file.lastModifiedDate.toLocaleDateString() :\n",
              "                                    'n/a'} - `));\n",
              "    const percent = span('0% done');\n",
              "    li.appendChild(percent);\n",
              "\n",
              "    outputElement.appendChild(li);\n",
              "\n",
              "    const fileDataPromise = new Promise((resolve) => {\n",
              "      const reader = new FileReader();\n",
              "      reader.onload = (e) => {\n",
              "        resolve(e.target.result);\n",
              "      };\n",
              "      reader.readAsArrayBuffer(file);\n",
              "    });\n",
              "    // Wait for the data to be ready.\n",
              "    let fileData = yield {\n",
              "      promise: fileDataPromise,\n",
              "      response: {\n",
              "        action: 'continue',\n",
              "      }\n",
              "    };\n",
              "\n",
              "    // Use a chunked sending to avoid message size limits. See b/62115660.\n",
              "    let position = 0;\n",
              "    do {\n",
              "      const length = Math.min(fileData.byteLength - position, MAX_PAYLOAD_SIZE);\n",
              "      const chunk = new Uint8Array(fileData, position, length);\n",
              "      position += length;\n",
              "\n",
              "      const base64 = btoa(String.fromCharCode.apply(null, chunk));\n",
              "      yield {\n",
              "        response: {\n",
              "          action: 'append',\n",
              "          file: file.name,\n",
              "          data: base64,\n",
              "        },\n",
              "      };\n",
              "\n",
              "      let percentDone = fileData.byteLength === 0 ?\n",
              "          100 :\n",
              "          Math.round((position / fileData.byteLength) * 100);\n",
              "      percent.textContent = `${percentDone}% done`;\n",
              "\n",
              "    } while (position < fileData.byteLength);\n",
              "  }\n",
              "\n",
              "  // All done.\n",
              "  yield {\n",
              "    response: {\n",
              "      action: 'complete',\n",
              "    }\n",
              "  };\n",
              "}\n",
              "\n",
              "scope.google = scope.google || {};\n",
              "scope.google.colab = scope.google.colab || {};\n",
              "scope.google.colab._files = {\n",
              "  _uploadFiles,\n",
              "  _uploadFilesContinue,\n",
              "};\n",
              "})(self);\n",
              "</script> "
            ]
          },
          "metadata": {}
        },
        {
          "output_type": "stream",
          "name": "stdout",
          "text": [
            "Saving test.json to test.json\n",
            "Saving train.json to train.json\n"
          ]
        }
      ],
      "source": [
        "from google.colab import files\n",
        "uploaded = files.upload()"
      ]
    },
    {
      "cell_type": "code",
      "execution_count": null,
      "metadata": {
        "id": "OM03VRTh1qnD"
      },
      "outputs": [],
      "source": [
        "# Import the libraries we'll use below.\n",
        "import numpy as np\n",
        "from matplotlib import pyplot as plt\n",
        "import pandas as pd\n",
        "import seaborn as sns  # for nicer plots\n",
        "sns.set(style=\"darkgrid\")  # default style\n",
        "import plotly.graph_objs as plotly  # for interactive plots\n",
        "import re\n",
        "import string\n",
        "\n",
        "import tensorflow as tf\n",
        "from tensorflow import keras\n",
        "\n",
        "from sklearn.model_selection import train_test_split\n",
        "\n",
        "def plot_history(history):\n",
        "  plt.ylabel('Loss')\n",
        "  plt.xlabel('Epoch')\n",
        "  plt.xticks(range(0, len(history['loss'] + 1)))\n",
        "  plt.plot(history['loss'], label=\"training\", marker='o')\n",
        "  plt.plot(history['val_loss'], label=\"validation\", marker='o')\n",
        "  plt.legend()\n",
        "  plt.show()"
      ]
    },
    {
      "cell_type": "code",
      "execution_count": null,
      "metadata": {
        "colab": {
          "base_uri": "https://localhost:8080/"
        },
        "id": "vR_iIK9j1zuY",
        "outputId": "bc989eda-a619-4002-e4da-8f29bb1f9e04"
      },
      "outputs": [
        {
          "output_type": "execute_result",
          "data": {
            "text/plain": [
              "Index(['giver_username_if_known',\n",
              "       'number_of_downvotes_of_request_at_retrieval',\n",
              "       'number_of_upvotes_of_request_at_retrieval', 'post_was_edited',\n",
              "       'request_id', 'request_number_of_comments_at_retrieval', 'request_text',\n",
              "       'request_text_edit_aware', 'request_title',\n",
              "       'requester_account_age_in_days_at_request',\n",
              "       'requester_account_age_in_days_at_retrieval',\n",
              "       'requester_days_since_first_post_on_raop_at_request',\n",
              "       'requester_days_since_first_post_on_raop_at_retrieval',\n",
              "       'requester_number_of_comments_at_request',\n",
              "       'requester_number_of_comments_at_retrieval',\n",
              "       'requester_number_of_comments_in_raop_at_request',\n",
              "       'requester_number_of_comments_in_raop_at_retrieval',\n",
              "       'requester_number_of_posts_at_request',\n",
              "       'requester_number_of_posts_at_retrieval',\n",
              "       'requester_number_of_posts_on_raop_at_request',\n",
              "       'requester_number_of_posts_on_raop_at_retrieval',\n",
              "       'requester_number_of_subreddits_at_request',\n",
              "       'requester_subreddits_at_request',\n",
              "       'requester_upvotes_minus_downvotes_at_request',\n",
              "       'requester_upvotes_minus_downvotes_at_retrieval',\n",
              "       'requester_upvotes_plus_downvotes_at_request',\n",
              "       'requester_upvotes_plus_downvotes_at_retrieval', 'requester_user_flair',\n",
              "       'requester_username', 'unix_timestamp_of_request',\n",
              "       'unix_timestamp_of_request_utc'],\n",
              "      dtype='object')"
            ]
          },
          "metadata": {},
          "execution_count": 4
        }
      ],
      "source": [
        "# create test and train sets\n",
        "all_data = pd.read_json(\"train.json\")\n",
        "outcomes = all_data[\"requester_received_pizza\"]\n",
        "features = all_data.drop(\"requester_received_pizza\", axis=1)\n",
        "\n",
        "X_train, X_test, y_train, y_test = train_test_split(features, outcomes, test_size=0.1, random_state=6)\n",
        "\n",
        "X_train.columns"
      ]
    },
    {
      "cell_type": "code",
      "execution_count": null,
      "metadata": {
        "id": "ksefvUEh3O6M"
      },
      "outputs": [],
      "source": [
        "# create a train/test set with only numeric fields\n",
        "numeric_columns = [\"number_of_downvotes_of_request_at_retrieval\",\n",
        "                   \"number_of_upvotes_of_request_at_retrieval\",\n",
        "                   \"post_was_edited\",\n",
        "                   \"request_number_of_comments_at_retrieval\",\n",
        "                   \"requester_account_age_in_days_at_request\",\n",
        "                   \"requester_days_since_first_post_on_raop_at_request\",\n",
        "                   \"requester_number_of_comments_at_request\",\n",
        "                   \"requester_number_of_comments_in_raop_at_request\",\n",
        "                   \"requester_number_of_posts_at_request\",\n",
        "                   \"requester_number_of_subreddits_at_request\",\n",
        "                   \"requester_upvotes_minus_downvotes_at_request\",\n",
        "                   \"requester_upvotes_plus_downvotes_at_request\"\n",
        "]"
      ]
    },
    {
      "cell_type": "code",
      "execution_count": null,
      "metadata": {
        "id": "gzXT_E4k61t2"
      },
      "outputs": [],
      "source": [
        "X_train_numeric_only = X_train[numeric_columns]\n",
        "X_test_numeric_only = X_test[numeric_columns]"
      ]
    },
    {
      "cell_type": "code",
      "execution_count": null,
      "metadata": {
        "colab": {
          "base_uri": "https://localhost:8080/"
        },
        "id": "4VQ2pWcO691c",
        "outputId": "9c53711f-38df-4696-f8d5-af24d6f8d821"
      },
      "outputs": [
        {
          "output_type": "stream",
          "name": "stdout",
          "text": [
            "Epoch 1/10\n",
            "103/103 [==============================] - 1s 5ms/step - loss: 5947375.5000 - val_loss: 2037545.5000\n",
            "Epoch 2/10\n",
            "103/103 [==============================] - 0s 3ms/step - loss: 783253.1875 - val_loss: 2729.5588\n",
            "Epoch 3/10\n",
            "103/103 [==============================] - 0s 3ms/step - loss: 12401.7559 - val_loss: 14672.8271\n",
            "Epoch 4/10\n",
            "103/103 [==============================] - 0s 3ms/step - loss: 16418.1758 - val_loss: 16333.6260\n",
            "Epoch 5/10\n",
            "103/103 [==============================] - 0s 3ms/step - loss: 11035.7578 - val_loss: 10275.5713\n",
            "Epoch 6/10\n",
            "103/103 [==============================] - 0s 3ms/step - loss: 15649.4580 - val_loss: 12054.2256\n",
            "Epoch 7/10\n",
            "103/103 [==============================] - 0s 3ms/step - loss: 16743.1543 - val_loss: 18619.1484\n",
            "Epoch 8/10\n",
            "103/103 [==============================] - 0s 3ms/step - loss: 17473.3125 - val_loss: 46699.6523\n",
            "Epoch 9/10\n",
            "103/103 [==============================] - 0s 2ms/step - loss: 23157.4531 - val_loss: 10675.2510\n",
            "Epoch 10/10\n",
            "103/103 [==============================] - 0s 2ms/step - loss: 14783.8916 - val_loss: 6806.4082\n"
          ]
        }
      ],
      "source": [
        "number_of_features = X_train_numeric_only.shape[1]\n",
        "model = keras.Sequential()\n",
        "model.add(keras.layers.Dense(1,activation = 'sigmoid',input_dim = number_of_features))\n",
        "model.compile(optimizer='adam', loss='binary_crossentropy')\n",
        "history = model.fit(x = X_train_numeric_only, y = y_train, epochs=10, validation_split=0.1)"
      ]
    },
    {
      "cell_type": "code",
      "execution_count": null,
      "metadata": {
        "colab": {
          "base_uri": "https://localhost:8080/"
        },
        "id": "2ESN_wgjAK-u",
        "outputId": "f13e5f3f-8737-4803-f73d-2f80716d234c"
      },
      "outputs": [
        {
          "output_type": "stream",
          "name": "stdout",
          "text": [
            "114/114 [==============================] - 0s 1ms/step\n",
            "13/13 [==============================] - 0s 1ms/step\n"
          ]
        }
      ],
      "source": [
        "y_train_pred_raw = model.predict(X_train_numeric_only)\n",
        "y_train_pred = y_train_pred_raw > 0.5\n",
        "y_test_pred_raw = model.predict(X_test_numeric_only)\n",
        "y_test_pred = y_test_pred_raw > 0.5"
      ]
    },
    {
      "cell_type": "code",
      "execution_count": null,
      "metadata": {
        "colab": {
          "base_uri": "https://localhost:8080/",
          "height": 458
        },
        "id": "8csk0J5VAljx",
        "outputId": "ce0ce595-ba3e-44bb-e55d-8d714880cb0b"
      },
      "outputs": [
        {
          "output_type": "display_data",
          "data": {
            "text/plain": [
              "<Figure size 640x480 with 1 Axes>"
            ],
            "image/png": "[encoded data removed]"
          },
          "metadata": {}
        }
      ],
      "source": [
        "confusion_matrix = tf.math.confusion_matrix(y_test, y_test_pred)\n",
        "label_names = [True, False]\n",
        "# Use a heatmap plot to display it.\n",
        "ax = sns.heatmap(confusion_matrix, annot=True, fmt='.3g', cmap='Blues',\n",
        "                 xticklabels=label_names, yticklabels=label_names, cbar=False)\n",
        "\n",
        "# Add axis labels.\n",
        "ax.set(xlabel='Predicted Label', ylabel='True Label')\n",
        "plt.show()"
      ]
    },
    {
      "cell_type": "code",
      "source": [
        "history = pd.DataFrame(history.history)\n",
        "plot_history(history)"
      ],
      "metadata": {
        "colab": {
          "base_uri": "https://localhost:8080/",
          "height": 474
        },
        "id": "DaWUuiriSYl3",
        "outputId": "fab7a765-da53-4f2a-be3e-bef1d9bac3bd"
      },
      "execution_count": null,
      "outputs": [
        {
          "output_type": "display_data",
          "data": {
            "text/plain": [
              "<Figure size 640x480 with 1 Axes>"
            ],
            "image/png": "[encoded data removed]"
          },
          "metadata": {}
        }
      ]
    },
    {
      "cell_type": "code",
      "execution_count": null,
      "metadata": {
        "colab": {
          "base_uri": "https://localhost:8080/"
        },
        "id": "qYlSjyekC2Yr",
        "outputId": "298ffd17-40ac-4079-c230-b35cf1bf82a6"
      },
      "outputs": [
        {
          "output_type": "stream",
          "name": "stdout",
          "text": [
            "Train Accuracy:\n",
            "0.5567\n",
            "Test Accuracy:\n",
            "0.5495\n"
          ]
        }
      ],
      "source": [
        "print(\"Train Accuracy:\")\n",
        "train_matches = sum(y_train.values == y_train_pred.flatten())\n",
        "train_accuracy = train_matches / len(y_train.values)\n",
        "print(round(train_accuracy, 4))\n",
        "print(\"Test Accuracy:\")\n",
        "test_matches = sum(y_test.values == y_test_pred.flatten())\n",
        "test_accuracy = test_matches / len(y_test.values)\n",
        "print(round(test_accuracy, 4))"
      ]
    },
    {
      "cell_type": "code",
      "source": [
        "# Now lets add embeddings\n",
        "def build_embeddings_model(average_over_positions=False,\n",
        "                           vocab_size=1000,\n",
        "                           sequence_length=20,\n",
        "                           embedding_dim=2):\n",
        "  \"\"\"Build a tf.keras model using embeddings.\"\"\"\n",
        "  # Clear session and remove randomness.\n",
        "  tf.keras.backend.clear_session()\n",
        "  tf.random.set_seed(0)\n",
        "\n",
        "  model = tf.keras.Sequential()\n",
        "  model.add(tf.keras.layers.Embedding(\n",
        "      input_dim=vocab_size,\n",
        "      output_dim=embedding_dim,\n",
        "      input_length=sequence_length)\n",
        "  )\n",
        "\n",
        "  if average_over_positions:\n",
        "    # This layer averages over the first dimension of the input by default.\n",
        "    model.add(tf.keras.layers.GlobalAveragePooling1D())\n",
        "  else:\n",
        "    # Concatenate.\n",
        "    model.add(tf.keras.layers.Flatten())\n",
        "  model.add(tf.keras.layers.Dense(\n",
        "      units=1,                     # output dim (for binary classification)\n",
        "      activation='sigmoid'         # apply the sigmoid function!\n",
        "  ))\n",
        "\n",
        "  model.compile(loss='binary_crossentropy',\n",
        "                optimizer='adam',\n",
        "                metrics=['accuracy'])\n",
        "\n",
        "  return model"
      ],
      "metadata": {
        "id": "oEW2MG-D8rIm"
      },
      "execution_count": null,
      "outputs": []
    },
    {
      "cell_type": "code",
      "source": [
        "def limit_vocab(sequences, max_token_id, oov_id=2):\n",
        "  \"\"\"Replace token ids greater than or equal to max_token_id with the oov_id.\"\"\"\n",
        "  reduced_sequences = np.copy(sequences)\n",
        "  reduced_sequences[reduced_sequences >= max_token_id] = oov_id\n",
        "  return reduced_sequences\n",
        "\n",
        "def preprocess_text(text):\n",
        "  # Remove punctuation\n",
        "  text = text.translate(str.maketrans('', '', string.punctuation))\n",
        "\n",
        "  # Convert to lowercase\n",
        "  text = text.lower()\n",
        "\n",
        "  # Tokenize the text into individual words\n",
        "  words = re.findall(r'\\b\\w+\\b', text)\n",
        "\n",
        "  return words"
      ],
      "metadata": {
        "id": "p7vUXCOY93aB"
      },
      "execution_count": null,
      "outputs": []
    },
    {
      "cell_type": "code",
      "source": [
        "# text only\n",
        "all_data_text = all_data['request_text'].apply(preprocess_text)\n",
        "all_data_text.shape"
      ],
      "metadata": {
        "colab": {
          "base_uri": "https://localhost:8080/"
        },
        "id": "Q4atD_2m-7-c",
        "outputId": "131693f6-77dc-4eda-c319-82bce1905fd3"
      },
      "execution_count": null,
      "outputs": [
        {
          "output_type": "execute_result",
          "data": {
            "text/plain": [
              "(4040,)"
            ]
          },
          "metadata": {},
          "execution_count": 14
        }
      ]
    },
    {
      "cell_type": "code",
      "source": [
        "# Create a vocabulary of all the unique words in the text data\n",
        "vocab = set()\n",
        "for text in all_data_text:\n",
        "    vocab.update(text)\n",
        "\n",
        "# Create a word-to-index mapping\n",
        "word_to_index = {}\n",
        "for i, word in enumerate(vocab):\n",
        "    word_to_index[word] = i"
      ],
      "metadata": {
        "id": "ycrcVR0sDPs1"
      },
      "execution_count": null,
      "outputs": []
    },
    {
      "cell_type": "code",
      "source": [
        "all_data_text_vectorized = all_data_text.apply(lambda x: [word_to_index[word] for word in x])\n",
        "all_data_result = all_data['requester_received_pizza'].astype(int)\n",
        "X_train_text, X_test_text, y_train_text, y_test_text = train_test_split(all_data_text_vectorized, all_data_result, test_size=0.1, random_state=14)"
      ],
      "metadata": {
        "id": "GiGRRMrkDbLs"
      },
      "execution_count": null,
      "outputs": []
    },
    {
      "cell_type": "code",
      "source": [
        "def pad_data(sequences, max_length):\n",
        "  # Keras has a convenient utility for padding a sequence.\n",
        "  # Also make sure we get a numpy array rather than an array of lists.\n",
        "  return np.array(list(\n",
        "      tf.keras.preprocessing.sequence.pad_sequences(\n",
        "          sequences, maxlen=max_length, padding='post', value=0)))\n",
        "\n",
        "X_train_text_padded = pad_data(X_train_text, max_length=1000)\n",
        "# print(X_train_text.shape)\n",
        "# print(X_train_text_padded.shape)\n",
        "# print(len(X_train_text[1]))\n",
        "# print(len(X_train_text_padded[1]))\n",
        "# print(type(X_train_text[1][0]))\n",
        "# print(X_train_text[1])\n",
        "# print(X_train_text_padded[1])"
      ],
      "metadata": {
        "id": "C7jU2AGiENnB"
      },
      "execution_count": null,
      "outputs": []
    },
    {
      "cell_type": "code",
      "source": [
        "# text only\n",
        "X_test_text_padded = pad_data(X_test_text, max_length=1000)\n",
        "X_train_text_reduced = limit_vocab(X_train_text_padded, max_token_id=10000)\n",
        "X_test_text_reduced = limit_vocab(X_test_text_padded, max_token_id=10000)\n",
        "embeddings_model = build_embeddings_model(average_over_positions=True,\n",
        "                               vocab_size=10000,\n",
        "                               sequence_length=1000,\n",
        "                               embedding_dim=4)\n",
        "history = embeddings_model.fit(\n",
        "  x = X_train_text_reduced,  # our sparse padded training data\n",
        "  y = y_train_text,          # corresponding binary labels\n",
        "  epochs=5,             # number of passes through the training data\n",
        "  batch_size=64,        # mini-batch size\n",
        "  validation_split=0.1, # use a fraction of the examples for validation\n",
        "  verbose=1             # display some progress output during training\n",
        "  )\n",
        "\n",
        "history = pd.DataFrame(history.history)\n",
        "plot_history(history)"
      ],
      "metadata": {
        "colab": {
          "base_uri": "https://localhost:8080/",
          "height": 639
        },
        "id": "GSLyUWQN9Ibf",
        "outputId": "dcbefcae-795f-441c-bf1c-5fec2a15220e"
      },
      "execution_count": null,
      "outputs": [
        {
          "output_type": "stream",
          "name": "stdout",
          "text": [
            "Epoch 1/5\n",
            "52/52 [==============================] - 2s 21ms/step - loss: 0.6720 - accuracy: 0.7524 - val_loss: 0.6548 - val_accuracy: 0.7363\n",
            "Epoch 2/5\n",
            "52/52 [==============================] - 1s 14ms/step - loss: 0.6347 - accuracy: 0.7528 - val_loss: 0.6232 - val_accuracy: 0.7363\n",
            "Epoch 3/5\n",
            "52/52 [==============================] - 1s 19ms/step - loss: 0.6044 - accuracy: 0.7528 - val_loss: 0.6008 - val_accuracy: 0.7363\n",
            "Epoch 4/5\n",
            "52/52 [==============================] - 1s 11ms/step - loss: 0.5830 - accuracy: 0.7528 - val_loss: 0.5862 - val_accuracy: 0.7363\n",
            "Epoch 5/5\n",
            "52/52 [==============================] - 1s 13ms/step - loss: 0.5688 - accuracy: 0.7528 - val_loss: 0.5788 - val_accuracy: 0.7363\n"
          ]
        },
        {
          "output_type": "display_data",
          "data": {
            "text/plain": [
              "<Figure size 640x480 with 1 Axes>"
            ],
            "image/png": "[encoded data removed]"
          },
          "metadata": {}
        }
      ]
    },
    {
      "cell_type": "code",
      "source": [
        "y_train_pred_raw = embeddings_model.predict(X_train_text_reduced)\n",
        "y_train_pred = y_train_pred_raw > 0.5\n",
        "y_test_pred_raw = embeddings_model.predict(X_test_text_reduced)\n",
        "y_test_pred = y_test_pred_raw > 0.5\n",
        "# print(y_test_text.shape)\n",
        "# print(y_test_pred.shape)\n",
        "confusion_matrix = tf.math.confusion_matrix(y_test_text, y_test_pred)\n",
        "label_names = [True, False]\n",
        "# Use a heatmap plot to display it.\n",
        "ax = sns.heatmap(confusion_matrix, annot=True, fmt='.3g', cmap='Blues',\n",
        "                 xticklabels=label_names, yticklabels=label_names, cbar=False)\n",
        "\n",
        "# Add axis labels.\n",
        "ax.set(xlabel='Predicted Label', ylabel='True Label')\n",
        "plt.show()"
      ],
      "metadata": {
        "colab": {
          "base_uri": "https://localhost:8080/",
          "height": 494
        },
        "id": "gw1pgWZKTaPR",
        "outputId": "4f01dcbb-e515-431d-ed29-058d78256d3f"
      },
      "execution_count": null,
      "outputs": [
        {
          "output_type": "stream",
          "name": "stdout",
          "text": [
            "114/114 [==============================] - 0s 2ms/step\n",
            "13/13 [==============================] - 0s 2ms/step\n"
          ]
        },
        {
          "output_type": "display_data",
          "data": {
            "text/plain": [
              "<Figure size 640x480 with 1 Axes>"
            ],
            "image/png": "[encoded data removed]"
          },
          "metadata": {}
        }
      ]
    },
    {
      "cell_type": "code",
      "source": [],
      "metadata": {
        "id": "CWJyK_Q8Van3"
      },
      "execution_count": null,
      "outputs": []
    },
    {
      "cell_type": "code",
      "source": [
        "print(\"Train Acc:\", 0.7543)\n",
        "print(\"Validation Acc:\", 0.7720)"
      ],
      "metadata": {
        "id": "qri73NtoRJMg",
        "outputId": "07978007-3dd1-4084-b6a2-901e82b7946c",
        "colab": {
          "base_uri": "https://localhost:8080/"
        }
      },
      "execution_count": null,
      "outputs": [
        {
          "output_type": "stream",
          "name": "stdout",
          "text": [
            "Train Acc: 0.7543\n",
            "Validation Acc: 0.772\n"
          ]
        }
      ]
    },
    {
      "cell_type": "code",
      "source": [
        "# read in test data\n",
        "kaggle_test = pd.read_json(\"test.json\")\n",
        "# print(kaggle_test.columns)\n",
        "request_ids = kaggle_test['request_id']\n",
        "\n",
        "# Create a vocabulary of all the unique words in the text data\n",
        "vocab = set()\n",
        "for text in kaggle_test['request_text_edit_aware']:\n",
        "    vocab.update(text)\n",
        "\n",
        "# Create a word-to-index mapping\n",
        "word_to_index = {}\n",
        "for i, word in enumerate(vocab):\n",
        "    word_to_index[word] = i\n",
        "\n",
        "# process text data\n",
        "kaggle_text = kaggle_test['request_text_edit_aware'].apply(lambda x: [word_to_index[word] for word in x])\n",
        "kaggle_text_padded = pad_data(kaggle_text, max_length=1000)\n",
        "kaggle_text_reduced = limit_vocab(kaggle_text_padded, max_token_id=10000)\n",
        "\n",
        "# generate predictions\n",
        "kaggle_pred = embeddings_model.predict(kaggle_text_reduced)\n",
        "\n",
        "output = pd.DataFrame()\n",
        "output['request_id'] = request_ids\n",
        "output['requester_received_pizza'] = kaggle_pred\n",
        "\n",
        "output.head()"
      ],
      "metadata": {
        "colab": {
          "base_uri": "https://localhost:8080/",
          "height": 224
        },
        "id": "-VhXjd_mU-87",
        "outputId": "33baeae7-d064-4125-fe3b-c29bba196211"
      },
      "execution_count": null,
      "outputs": [
        {
          "output_type": "stream",
          "name": "stdout",
          "text": [
            "51/51 [==============================] - 0s 2ms/step\n"
          ]
        },
        {
          "output_type": "execute_result",
          "data": {
            "text/plain": [
              "  request_id  requester_received_pizza\n",
              "0   t3_i8iy4                  0.327551\n",
              "1  t3_1mfqi0                  0.372809\n",
              "2   t3_lclka                  0.346926\n",
              "3  t3_1jdgdj                  0.308978\n",
              "4   t3_t2qt4                  0.353341"
            ],
            "text/html": [
              "\n",
              "\n",
              "  <div id=\"df-e5acf919-f500-42ce-b822-8e10c54f661f\">\n",
              "    <div class=\"colab-df-container\">\n",
              "      <div>\n",
              "<style scoped>\n",
              "    .dataframe tbody tr th:only-of-type {\n",
              "        vertical-align: middle;\n",
              "    }\n",
              "\n",
              "    .dataframe tbody tr th {\n",
              "        vertical-align: top;\n",
              "    }\n",
              "\n",
              "    .dataframe thead th {\n",
              "        text-align: right;\n",
              "    }\n",
              "</style>\n",
              "<table border=\"1\" class=\"dataframe\">\n",
              "  <thead>\n",
              "    <tr style=\"text-align: right;\">\n",
              "      <th></th>\n",
              "      <th>request_id</th>\n",
              "      <th>requester_received_pizza</th>\n",
              "    </tr>\n",
              "  </thead>\n",
              "  <tbody>\n",
              "    <tr>\n",
              "      <th>0</th>\n",
              "      <td>t3_i8iy4</td>\n",
              "      <td>0.327551</td>\n",
              "    </tr>\n",
              "    <tr>\n",
              "      <th>1</th>\n",
              "      <td>t3_1mfqi0</td>\n",
              "      <td>0.372809</td>\n",
              "    </tr>\n",
              "    <tr>\n",
              "      <th>2</th>\n",
              "      <td>t3_lclka</td>\n",
              "      <td>0.346926</td>\n",
              "    </tr>\n",
              "    <tr>\n",
              "      <th>3</th>\n",
              "      <td>t3_1jdgdj</td>\n",
              "      <td>0.308978</td>\n",
              "    </tr>\n",
              "    <tr>\n",
              "      <th>4</th>\n",
              "      <td>t3_t2qt4</td>\n",
              "      <td>0.353341</td>\n",
              "    </tr>\n",
              "  </tbody>\n",
              "</table>\n",
              "</div>\n",
              "      <button class=\"colab-df-convert\" onclick=\"convertToInteractive('df-e5acf919-f500-42ce-b822-8e10c54f661f')\"\n",
              "              title=\"Convert this dataframe to an interactive table.\"\n",
              "              style=\"display:none;\">\n",
              "\n",
              "  <svg xmlns=\"http://www.w3.org/2000/svg\" height=\"24px\"viewBox=\"0 0 24 24\"\n",
              "       width=\"24px\">\n",
              "    <path d=\"M0 0h24v24H0V0z\" fill=\"none\"/>\n",
              "    <path d=\"M18.56 5.44l.94 2.06.94-2.06 2.06-.94-2.06-.94-.94-2.06-.94 2.06-2.06.94zm-11 1L8.5 8.5l.94-2.06 2.06-.94-2.06-.94L8.5 2.5l-.94 2.06-2.06.94zm10 10l.94 2.06.94-2.06 2.06-.94-2.06-.94-.94-2.06-.94 2.06-2.06.94z\"/><path d=\"M17.41 7.96l-1.37-1.37c-.4-.4-.92-.59-1.43-.59-.52 0-1.04.2-1.43.59L10.3 9.45l-7.72 7.72c-.78.78-.78 2.05 0 2.83L4 21.41c.39.39.9.59 1.41.59.51 0 1.02-.2 1.41-.59l7.78-7.78 2.81-2.81c.8-.78.8-2.07 0-2.86zM5.41 20L4 18.59l7.72-7.72 1.47 1.35L5.41 20z\"/>\n",
              "  </svg>\n",
              "      </button>\n",
              "\n",
              "\n",
              "\n",
              "    <div id=\"df-89962ae2-7c19-41c0-937f-a407ab10e3ea\">\n",
              "      <button class=\"colab-df-quickchart\" onclick=\"quickchart('df-89962ae2-7c19-41c0-937f-a407ab10e3ea')\"\n",
              "              title=\"Suggest charts.\"\n",
              "              style=\"display:none;\">\n",
              "\n",
              "<svg xmlns=\"http://www.w3.org/2000/svg\" height=\"24px\"viewBox=\"0 0 24 24\"\n",
              "     width=\"24px\">\n",
              "    <g>\n",
              "        <path d=\"M19 3H5c-1.1 0-2 .9-2 2v14c0 1.1.9 2 2 2h14c1.1 0 2-.9 2-2V5c0-1.1-.9-2-2-2zM9 17H7v-7h2v7zm4 0h-2V7h2v10zm4 0h-2v-4h2v4z\"/>\n",
              "    </g>\n",
              "</svg>\n",
              "      </button>\n",
              "    </div>\n",
              "\n",
              "<style>\n",
              "  .colab-df-quickchart {\n",
              "    background-color: #E8F0FE;\n",
              "    border: none;\n",
              "    border-radius: 50%;\n",
              "    cursor: pointer;\n",
              "    display: none;\n",
              "    fill: #1967D2;\n",
              "    height: 32px;\n",
              "    padding: 0 0 0 0;\n",
              "    width: 32px;\n",
              "  }\n",
              "\n",
              "  .colab-df-quickchart:hover {\n",
              "    background-color: #E2EBFA;\n",
              "    box-shadow: 0px 1px 2px rgba(60, 64, 67, 0.3), 0px 1px 3px 1px rgba(60, 64, 67, 0.15);\n",
              "    fill: #174EA6;\n",
              "  }\n",
              "\n",
              "  [theme=dark] .colab-df-quickchart {\n",
              "    background-color: #3B4455;\n",
              "    fill: #D2E3FC;\n",
              "  }\n",
              "\n",
              "  [theme=dark] .colab-df-quickchart:hover {\n",
              "    background-color: #434B5C;\n",
              "    box-shadow: 0px 1px 3px 1px rgba(0, 0, 0, 0.15);\n",
              "    filter: drop-shadow(0px 1px 2px rgba(0, 0, 0, 0.3));\n",
              "    fill: #FFFFFF;\n",
              "  }\n",
              "</style>\n",
              "\n",
              "    <script>\n",
              "      async function quickchart(key) {\n",
              "        const containerElement = document.querySelector('#' + key);\n",
              "        const charts = await google.colab.kernel.invokeFunction(\n",
              "            'suggestCharts', [key], {});\n",
              "      }\n",
              "    </script>\n",
              "\n",
              "      <script>\n",
              "\n",
              "function displayQuickchartButton(domScope) {\n",
              "  let quickchartButtonEl =\n",
              "    domScope.querySelector('#df-89962ae2-7c19-41c0-937f-a407ab10e3ea button.colab-df-quickchart');\n",
              "  quickchartButtonEl.style.display =\n",
              "    google.colab.kernel.accessAllowed ? 'block' : 'none';\n",
              "}\n",
              "\n",
              "        displayQuickchartButton(document);\n",
              "      </script>\n",
              "      <style>\n",
              "    .colab-df-container {\n",
              "      display:flex;\n",
              "      flex-wrap:wrap;\n",
              "      gap: 12px;\n",
              "    }\n",
              "\n",
              "    .colab-df-convert {\n",
              "      background-color: #E8F0FE;\n",
              "      border: none;\n",
              "      border-radius: 50%;\n",
              "      cursor: pointer;\n",
              "      display: none;\n",
              "      fill: #1967D2;\n",
              "      height: 32px;\n",
              "      padding: 0 0 0 0;\n",
              "      width: 32px;\n",
              "    }\n",
              "\n",
              "    .colab-df-convert:hover {\n",
              "      background-color: #E2EBFA;\n",
              "      box-shadow: 0px 1px 2px rgba(60, 64, 67, 0.3), 0px 1px 3px 1px rgba(60, 64, 67, 0.15);\n",
              "      fill: #174EA6;\n",
              "    }\n",
              "\n",
              "    [theme=dark] .colab-df-convert {\n",
              "      background-color: #3B4455;\n",
              "      fill: #D2E3FC;\n",
              "    }\n",
              "\n",
              "    [theme=dark] .colab-df-convert:hover {\n",
              "      background-color: #434B5C;\n",
              "      box-shadow: 0px 1px 3px 1px rgba(0, 0, 0, 0.15);\n",
              "      filter: drop-shadow(0px 1px 2px rgba(0, 0, 0, 0.3));\n",
              "      fill: #FFFFFF;\n",
              "    }\n",
              "  </style>\n",
              "\n",
              "      <script>\n",
              "        const buttonEl =\n",
              "          document.querySelector('#df-e5acf919-f500-42ce-b822-8e10c54f661f button.colab-df-convert');\n",
              "        buttonEl.style.display =\n",
              "          google.colab.kernel.accessAllowed ? 'block' : 'none';\n",
              "\n",
              "        async function convertToInteractive(key) {\n",
              "          const element = document.querySelector('#df-e5acf919-f500-42ce-b822-8e10c54f661f');\n",
              "          const dataTable =\n",
              "            await google.colab.kernel.invokeFunction('convertToInteractive',\n",
              "                                                     [key], {});\n",
              "          if (!dataTable) return;\n",
              "\n",
              "          const docLinkHtml = 'Like what you see? Visit the ' +\n",
              "            '<a target=\"_blank\" href=https://colab.research.google.com/notebooks/data_table.ipynb>data table notebook</a>'\n",
              "            + ' to learn more about interactive tables.';\n",
              "          element.innerHTML = '';\n",
              "          dataTable['output_type'] = 'display_data';\n",
              "          await google.colab.output.renderOutput(dataTable, element);\n",
              "          const docLink = document.createElement('div');\n",
              "          docLink.innerHTML = docLinkHtml;\n",
              "          element.appendChild(docLink);\n",
              "        }\n",
              "      </script>\n",
              "    </div>\n",
              "  </div>\n"
            ]
          },
          "metadata": {},
          "execution_count": 32
        }
      ]
    },
    {
      "cell_type": "code",
      "source": [
        "output.to_csv('kaggle_test.csv')"
      ],
      "metadata": {
        "id": "LwbkoKdul9Jw"
      },
      "execution_count": null,
      "outputs": []
    }
  ],
  "metadata": {
    "colab": {
      "provenance": []
    },
    "kernelspec": {
      "display_name": "Python 3",
      "name": "python3"
    },
    "language_info": {
      "name": "python"
    }
  },
  "nbformat": 4,
  "nbformat_minor": 0
}