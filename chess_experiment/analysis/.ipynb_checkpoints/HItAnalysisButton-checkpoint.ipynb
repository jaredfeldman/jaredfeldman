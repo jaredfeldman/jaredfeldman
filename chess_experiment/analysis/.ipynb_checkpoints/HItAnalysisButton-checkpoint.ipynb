{
 "cells": [
  {
   "cell_type": "code",
   "execution_count": 1,
   "metadata": {},
   "outputs": [
    {
     "data": {
      "text/plain": [
       "'4.14.0'"
      ]
     },
     "execution_count": 1,
     "metadata": {},
     "output_type": "execute_result"
    }
   ],
   "source": [
    "from selenium import webdriver\n",
    "from selenium.webdriver.common.by import By\n",
    "from selenium.webdriver.common.keys import Keys\n",
    "from selenium.webdriver.chrome.service import Service\n",
    "from webdriver_manager.chrome import ChromeDriverManager\n",
    "from selenium.webdriver.support.ui import WebDriverWait\n",
    "from selenium.webdriver.support import expected_conditions as EC\n",
    "import chromedriver_binary\n",
    "\n",
    "webdriver.__version__"
   ]
  },
  {
   "cell_type": "code",
   "execution_count": 7,
   "metadata": {},
   "outputs": [],
   "source": [
    "# This code logs in to lichess and hits the analyze button.\n",
    "# Initializes chrome web driver\n",
    "driver = webdriver.Chrome(service=Service(ChromeDriverManager().install()))\n",
    "\n",
    "# open URL to hit analyze button\n",
    "game_url = \"https://lichess.org/xAibWnEI/white\"\n",
    "#driver.get(game_url)\n",
    "\n",
    "# Get color from game url\n",
    "if \"/white\" in game_url:\n",
    "    color = \"white\"\n",
    "elif \"/black\" in game_url:\n",
    "    color = \"black\"\n",
    "\n",
    "# Find the \"Sign in\" link and click it\n",
    "referrer_url = f\"/login?referrer={game_url.split('/')[-2]}/{color}\"\n",
    "sign_in_url = f\"https://lichess.org{referrer_url}\"\n",
    "\n",
    "driver.get(sign_in_url)\n",
    "\n",
    "\n",
    "# Find the username input field and enter your username\n",
    "username_input = driver.find_element(By.ID, \"form3-username\")\n",
    "username = \"username\" # Enter your username\n",
    "username_input.send_keys(username)\n",
    "\n",
    "# Find the password input field and enter your password\n",
    "password_input = driver.find_element(By.ID, \"form3-password\")\n",
    "password = \"password\" # Enter your password\n",
    "password_input.send_keys(password)\n",
    "\n",
    "# Submit the login form\n",
    "login_button = driver.find_element(By.XPATH, \"//button[contains(., 'Sign in')]\")\n",
    "login_button.click()\n",
    "\n",
    "# Wait for the page to load after login\n",
    "wait = WebDriverWait(driver, 10)  # Adjust the timeout as needed\n",
    "wait.until(EC.presence_of_element_located((By.XPATH, \"//span[@role='tab' and text()='Computer analysis']\")))\n",
    "\n",
    "# Need to locate computer analysis tab first\n",
    "computer_analysis_tab = driver.find_element(By.XPATH, \"//span[@role='tab' and text()='Computer analysis']\")\n",
    "\n",
    "# Switch to computer analysis tab\n",
    "computer_analysis_tab.click()\n",
    "\n",
    "# Locate and click the request a computer analysis\n",
    "button = driver.find_element(By.XPATH, \"//button[@type='submit' and contains(., 'Request a computer analysis')]\")\n",
    "button.click()"
   ]
  }
 ],
 "metadata": {
  "kernelspec": {
   "display_name": "Python 3",
   "language": "python",
   "name": "python3"
  },
  "language_info": {
   "codemirror_mode": {
    "name": "ipython",
    "version": 3
   },
   "file_extension": ".py",
   "mimetype": "text/x-python",
   "name": "python",
   "nbconvert_exporter": "python",
   "pygments_lexer": "ipython3",
   "version": "3.11.4"
  }
 },
 "nbformat": 4,
 "nbformat_minor": 2
}
